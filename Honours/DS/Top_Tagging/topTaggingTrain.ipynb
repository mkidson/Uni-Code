{
 "cells": [
  {
   "cell_type": "code",
   "execution_count": 1,
   "metadata": {},
   "outputs": [],
   "source": [
    "import h5py\n",
    "import numpy as np\n",
    "import keras\n",
    "from keras.models import Sequential\n",
    "from keras.layers import Dense  \n",
    "from keras import backend as K\n",
    "from sklearn.model_selection import train_test_split\n",
    "import pandas as pd\n",
    "import tables\n",
    "import matplotlib.pyplot as plt\n",
    "import tensorflow as tf\n",
    "import preprocessing\n"
   ]
  },
  {
   "cell_type": "code",
   "execution_count": 2,
   "metadata": {},
   "outputs": [],
   "source": [
    "dataPath = '/home/WindowsDrive/Shared/Top_Tagging_Data/test.h5'\n",
    "numJets = 1200000\n",
    "maxConstits = 80"
   ]
  },
  {
   "cell_type": "code",
   "execution_count": 3,
   "metadata": {},
   "outputs": [],
   "source": [
    "with h5py.File(dataPath, 'r') as data:\n",
    "\n",
    "    npDataLabels = np.array(data['labels'])\n",
    "\n",
    "    npDataWeights = np.array(data['weights'])\n",
    "    \n",
    "    hlDataArr = {key: data[key][...] for key in data.attrs.get('hl')}\n"
   ]
  },
  {
   "cell_type": "markdown",
   "metadata": {},
   "source": [
    "## Preprocessing"
   ]
  },
  {
   "cell_type": "code",
   "execution_count": 4,
   "metadata": {},
   "outputs": [],
   "source": [
    "processed_dict = preprocessing.high_level(hlDataArr)\n",
    "processed_df = pd.DataFrame(processed_dict)\n"
   ]
  },
  {
   "cell_type": "code",
   "execution_count": 5,
   "metadata": {},
   "outputs": [],
   "source": [
    "data_train, data_test, labels_train, labels_test, weights_train, weights_test = train_test_split(processed_df, npDataLabels, npDataWeights, test_size=0.33, random_state=69, shuffle=True)"
   ]
  },
  {
   "cell_type": "code",
   "execution_count": 6,
   "metadata": {},
   "outputs": [],
   "source": [
    "# df_train = pd.DataFrame()\n",
    "# df_train[\"label\"] = labels_train\n",
    "# df_train[\"weights\"] = weights_train\n",
    "\n",
    "# sigSumWeights = np.sum(df_train[df_train[\"label\"]==1][\"weights\"])\n",
    "# bkgSumWeights = np.sum(df_train[df_train[\"label\"]==0][\"weights\"])\n",
    "\n",
    "# print(sigSumWeights)\n",
    "\n",
    "# scale = (bkgSumWeights/sigSumWeights)\n",
    "# df_train.loc[df_train.label==1, \"weights\"] *= scale\n",
    "\n",
    "# modsigSumWeights = np.sum(df_train[df_train[\"label\"]==1][\"weights\"])\n",
    "\n",
    "# print(modsigSumWeights)\n",
    "\n",
    "\n",
    "# final_weights_train = df_train[\"weights\"]"
   ]
  },
  {
   "cell_type": "markdown",
   "metadata": {},
   "source": [
    "## Training now"
   ]
  },
  {
   "cell_type": "code",
   "execution_count": 7,
   "metadata": {},
   "outputs": [
    {
     "name": "stderr",
     "output_type": "stream",
     "text": [
      "2022-09-25 15:30:30.573107: I tensorflow/stream_executor/cuda/cuda_gpu_executor.cc:975] successful NUMA node read from SysFS had negative value (-1), but there must be at least one NUMA node, so returning NUMA node zero\n",
      "2022-09-25 15:30:30.581719: I tensorflow/stream_executor/cuda/cuda_gpu_executor.cc:975] successful NUMA node read from SysFS had negative value (-1), but there must be at least one NUMA node, so returning NUMA node zero\n",
      "2022-09-25 15:30:30.582025: I tensorflow/stream_executor/cuda/cuda_gpu_executor.cc:975] successful NUMA node read from SysFS had negative value (-1), but there must be at least one NUMA node, so returning NUMA node zero\n",
      "2022-09-25 15:30:30.583006: I tensorflow/core/platform/cpu_feature_guard.cc:193] This TensorFlow binary is optimized with oneAPI Deep Neural Network Library (oneDNN) to use the following CPU instructions in performance-critical operations:  AVX2 FMA\n",
      "To enable them in other operations, rebuild TensorFlow with the appropriate compiler flags.\n",
      "2022-09-25 15:30:30.583859: I tensorflow/stream_executor/cuda/cuda_gpu_executor.cc:975] successful NUMA node read from SysFS had negative value (-1), but there must be at least one NUMA node, so returning NUMA node zero\n",
      "2022-09-25 15:30:30.584291: I tensorflow/stream_executor/cuda/cuda_gpu_executor.cc:975] successful NUMA node read from SysFS had negative value (-1), but there must be at least one NUMA node, so returning NUMA node zero\n",
      "2022-09-25 15:30:30.584613: I tensorflow/stream_executor/cuda/cuda_gpu_executor.cc:975] successful NUMA node read from SysFS had negative value (-1), but there must be at least one NUMA node, so returning NUMA node zero\n",
      "2022-09-25 15:30:31.070601: I tensorflow/stream_executor/cuda/cuda_gpu_executor.cc:975] successful NUMA node read from SysFS had negative value (-1), but there must be at least one NUMA node, so returning NUMA node zero\n",
      "2022-09-25 15:30:31.070787: I tensorflow/stream_executor/cuda/cuda_gpu_executor.cc:975] successful NUMA node read from SysFS had negative value (-1), but there must be at least one NUMA node, so returning NUMA node zero\n",
      "2022-09-25 15:30:31.070928: I tensorflow/stream_executor/cuda/cuda_gpu_executor.cc:975] successful NUMA node read from SysFS had negative value (-1), but there must be at least one NUMA node, so returning NUMA node zero\n",
      "2022-09-25 15:30:31.071036: I tensorflow/core/common_runtime/gpu/gpu_device.cc:1532] Created device /job:localhost/replica:0/task:0/device:GPU:0 with 3373 MB memory:  -> device: 0, name: NVIDIA GeForce GTX 1050 Ti with Max-Q Design, pci bus id: 0000:01:00.0, compute capability: 6.1\n"
     ]
    }
   ],
   "source": [
    "model = Sequential()\n",
    "model.add(keras.Input(shape=data_train.shape[1:]))\n",
    "model.add(Dense(20, activation='relu', kernel_regularizer=None, kernel_initializer='glorot_uniform'))\n",
    "model.add(Dense(20, activation='relu', kernel_regularizer=None, kernel_initializer='glorot_uniform'))\n",
    "model.add(Dense(20, activation='relu', kernel_regularizer=None, kernel_initializer='glorot_uniform'))\n",
    "model.add(Dense(1, activation='sigmoid'))\n",
    "model.compile(loss='binary_crossentropy', optimizer='adam', metrics=['accuracy'])   "
   ]
  },
  {
   "cell_type": "code",
   "execution_count": 8,
   "metadata": {},
   "outputs": [
    {
     "name": "stdout",
     "output_type": "stream",
     "text": [
      "Epoch 1/8\n",
      "16644/16644 [==============================] - 51s 3ms/step - loss: 0.3709 - accuracy: 0.8405\n",
      "Epoch 2/8\n",
      "16644/16644 [==============================] - 52s 3ms/step - loss: 0.3572 - accuracy: 0.8473\n",
      "Epoch 3/8\n",
      "16644/16644 [==============================] - 58s 3ms/step - loss: 0.3544 - accuracy: 0.8491\n",
      "Epoch 4/8\n",
      "16644/16644 [==============================] - 49s 3ms/step - loss: 0.3527 - accuracy: 0.8501\n",
      "Epoch 5/8\n",
      "16644/16644 [==============================] - 49s 3ms/step - loss: 0.3513 - accuracy: 0.8507\n",
      "Epoch 6/8\n",
      "16644/16644 [==============================] - 44s 3ms/step - loss: 0.3505 - accuracy: 0.8513\n",
      "Epoch 7/8\n",
      "16644/16644 [==============================] - 44s 3ms/step - loss: 0.3498 - accuracy: 0.8517\n",
      "Epoch 8/8\n",
      "16644/16644 [==============================] - 44s 3ms/step - loss: 0.3493 - accuracy: 0.8518\n"
     ]
    },
    {
     "data": {
      "text/plain": [
       "<keras.callbacks.History at 0x7f6143cf3430>"
      ]
     },
     "execution_count": 8,
     "metadata": {},
     "output_type": "execute_result"
    }
   ],
   "source": [
    "model.fit(data_train, labels_train, sample_weight=weights_train, epochs=8, batch_size=100, verbose=1)"
   ]
  },
  {
   "cell_type": "code",
   "execution_count": 19,
   "metadata": {},
   "outputs": [
    {
     "name": "stdout",
     "output_type": "stream",
     "text": [
      "25618/25618 [==============================] - 30s 1ms/step\n"
     ]
    }
   ],
   "source": [
    "pred_test = model.predict(data_test, verbose=1)"
   ]
  },
  {
   "cell_type": "code",
   "execution_count": 13,
   "metadata": {},
   "outputs": [
    {
     "data": {
      "image/png": "[encoded data removed]",
      "text/plain": [
       "<Figure size 640x480 with 1 Axes>"
      ]
     },
     "metadata": {},
     "output_type": "display_data"
    }
   ],
   "source": [
    "dfNN_test = pd.DataFrame()\n",
    "dfNN_test[\"labels\"] = labels_test\n",
    "dfNN_test[\"predictions\"] = pred_test\n",
    "dfNN_test[\"weights\"] = weights_test\n",
    "\n",
    "signalVals = dfNN_test[dfNN_test['labels']== 1] \n",
    "backgroundVals = dfNN_test[dfNN_test['labels']== 0] \n",
    "\n",
    "plt.figure()\n",
    "plt.xlabel(\"NN discriminant\")\n",
    "plt.ylabel(\"#exp. events\")\n",
    "\n",
    "bkgHistNN = plt.hist(backgroundVals[\"predictions\"], bins=5, weights=backgroundVals[\"weights\"],label=\"backgrounds\", range=[0,1], alpha=0.6)\n",
    "sigHistNN = plt.hist(signalVals[\"predictions\"], bins=5, weights=signalVals[\"weights\"],  label=r\"$H\\rightarrow \\tau\\tau$ signal\",range=[0,1], alpha=0.6)\n",
    "\n",
    "# bkgHistNN = plt.hist(backgroundVals['predictions'], bins=5, label=\"backgrounds\", range=[0,1], alpha=0.6)\n",
    "# sigHistNN = plt.hist(signalVals['predictions'], bins=5, label=\"signals\", range=[0,1], alpha=0.6)\n",
    "\n",
    "plt.legend()\n",
    "# plt.yscale('log')\n",
    "plt.show()"
   ]
  },
  {
   "cell_type": "code",
   "execution_count": 14,
   "metadata": {},
   "outputs": [
    {
     "name": "stdout",
     "output_type": "stream",
     "text": [
      "52012/52012 [==============================] - 62s 1ms/step\n"
     ]
    }
   ],
   "source": [
    "pred_train = model.predict(data_train)"
   ]
  },
  {
   "cell_type": "code",
   "execution_count": 15,
   "metadata": {},
   "outputs": [
    {
     "data": {
      "image/png": "[encoded data removed]",
      "text/plain": [
       "<Figure size 640x480 with 1 Axes>"
      ]
     },
     "metadata": {},
     "output_type": "display_data"
    }
   ],
   "source": [
    "dfNN_train = pd.DataFrame()\n",
    "dfNN_train[\"labels\"] = labels_train\n",
    "dfNN_train[\"predictions\"] = pred_train\n",
    "dfNN_train[\"weights\"] = weights_train\n",
    "\n",
    "signalVals = dfNN_train[dfNN_train['labels']== 1] \n",
    "backgroundVals = dfNN_train[dfNN_train['labels']== 0] \n",
    "\n",
    "plt.figure()\n",
    "plt.xlabel(\"NN discriminant\")\n",
    "plt.ylabel(\"#exp. events\")\n",
    "\n",
    "bkgHistNN = plt.hist(backgroundVals[\"predictions\"], bins=5, weights=backgroundVals[\"weights\"],label=\"backgrounds\", range=[0,1], alpha=0.6)\n",
    "sigHistNN = plt.hist(signalVals[\"predictions\"], bins=5, weights=signalVals[\"weights\"],  label=r\"$H\\rightarrow \\tau\\tau$ signal\",range=[0,1], alpha=0.6)\n",
    "\n",
    "plt.legend()\n",
    "#plt.yscale('log')\n",
    "plt.show()"
   ]
  },
  {
   "cell_type": "code",
   "execution_count": 9,
   "metadata": {},
   "outputs": [
    {
     "name": "stdout",
     "output_type": "stream",
     "text": [
      "INFO:tensorflow:Assets written to: ./models/highLevel_preprocessed_3_layers_correct_preprocessing/assets\n"
     ]
    }
   ],
   "source": [
    "model.save('./models/highLevel_preprocessed_3_layers_correct_preprocessing')"
   ]
  }
 ],
 "metadata": {
  "kernelspec": {
   "display_name": "Python 3.10.4 64-bit",
   "language": "python",
   "name": "python3"
  },
  "language_info": {
   "codemirror_mode": {
    "name": "ipython",
    "version": 3
   },
   "file_extension": ".py",
   "mimetype": "text/x-python",
   "name": "python",
   "nbconvert_exporter": "python",
   "pygments_lexer": "ipython3",
   "version": "3.6.8"
  },
  "orig_nbformat": 4,
  "vscode": {
   "interpreter": {
    "hash": "916dbcbb3f70747c44a77c7bcd40155683ae19c65e1c03b4aa3499c5328201f1"
   }
  }
 },
 "nbformat": 4,
 "nbformat_minor": 2
}
