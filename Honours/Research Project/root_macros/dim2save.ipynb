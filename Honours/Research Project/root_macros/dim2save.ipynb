{
 "cells": [
  {
   "cell_type": "code",
   "execution_count": 1,
   "metadata": {},
   "outputs": [
    {
     "name": "stdout",
     "output_type": "stream",
     "text": [
      "Welcome to JupyROOT 6.26/06\n"
     ]
    }
   ],
   "source": [
    "import ROOT as r"
   ]
  },
  {
   "cell_type": "code",
   "execution_count": 2,
   "metadata": {},
   "outputs": [
    {
     "name": "stdout",
     "output_type": "stream",
     "text": [
      "Collection name='THashList', class='THashList', size=1\n",
      " TKey Name = fwd-registry, Title = fwd-registry, Cycle = 1\n"
     ]
    }
   ],
   "source": [
    "filename = './Data/AnalysisResults_pass3_fullMerge.root'\n",
    "f = r.TFile(filename)\n",
    "f.GetListOfKeys().Print()"
   ]
  },
  {
   "cell_type": "code",
   "execution_count": 3,
   "metadata": {},
   "outputs": [
    {
     "name": "stdout",
     "output_type": "stream",
     "text": [
      "Collection name='THashList', class='THashList', size=13\n",
      " TKey Name = eta_phi, Title = object title, Cycle = 1\n",
      " TKey Name = MFTeta, Title = object title, Cycle = 1\n",
      " TKey Name = nClusters, Title = object title, Cycle = 1\n",
      " TKey Name = phi, Title = object title, Cycle = 1\n",
      " TKey Name = pT, Title = object title, Cycle = 1\n",
      " TKey Name = x_y_1, Title = object title, Cycle = 1\n",
      " TKey Name = x_y_2, Title = object title, Cycle = 1\n",
      " TKey Name = x_y_3, Title = object title, Cycle = 1\n",
      " TKey Name = x_y_4, Title = object title, Cycle = 1\n",
      " TKey Name = Z, Title = object title, Cycle = 1\n",
      " TKey Name = z_y, Title = object title, Cycle = 1\n",
      " TKey Name = z_z, Title = object title, Cycle = 1\n",
      " TKey Name = ZMFT, Title = object title, Cycle = 1\n"
     ]
    }
   ],
   "source": [
    "histRegistryName = 'fwd-registry'\n",
    "f.cd(histRegistryName)\n",
    "r.gDirectory.GetListOfKeys().Print()"
   ]
  },
  {
   "cell_type": "code",
   "execution_count": 8,
   "metadata": {},
   "outputs": [],
   "source": [
    "histName = 'x_y_1'\n",
    "plotHist = r.gDirectory.Get(histName)"
   ]
  },
  {
   "cell_type": "code",
   "execution_count": 9,
   "metadata": {},
   "outputs": [],
   "source": [
    "title = 'x-y at first MFT plane'\n",
    "x_axis_label = 'x (cm)'\n",
    "x_axis_center = False\n",
    "y_axis_label = 'y (cm)'\n",
    "y_axis_center = False\n",
    "log_x = False\n",
    "log_y = False\n",
    "grid_x = False\n",
    "grid_y = False\n",
    "# aspectRatio = 1.7\n",
    "aspectRatio = 1\n",
    "x_rotate = False\n",
    "y_rotate = False\n"
   ]
  },
  {
   "cell_type": "code",
   "execution_count": 23,
   "metadata": {},
   "outputs": [
    {
     "data": {
      "image/png": "[encoded data removed]",
      "text/plain": [
       "<IPython.core.display.Image object>"
      ]
     },
     "metadata": {},
     "output_type": "display_data"
    }
   ],
   "source": [
    "c = r.TCanvas()\n",
    "c.SetGridx(grid_x)\n",
    "c.SetGridy(grid_y)\n",
    "c.SetLogx(log_x)\n",
    "c.SetLogy(log_y)\n",
    "# c.SetRealAspectRatio(2)\n",
    "canvasHeight = c.GetWh()\n",
    "canvasWidth = c.GetWw()\n",
    "c.SetCanvasSize(int(aspectRatio * canvasHeight), canvasHeight)\n",
    "c.SetWindowSize(int(aspectRatio * canvasHeight * 1.3), int(canvasHeight * 1.3))\n",
    "# c.SetCanvasSize(canvasWidth, int(aspectRatio * canvasWidth))\n",
    "\n",
    "plotHist.SetStats(0)\n",
    "# plotHist.SetLineWidth(2)\n",
    "\n",
    "\n",
    "plotHist.SetTitle(title)\n",
    "\n",
    "plotHist.GetXaxis().SetTitle(x_axis_label)\n",
    "plotHist.GetXaxis().CenterTitle(x_axis_center)\n",
    "plotHist.GetXaxis().SetTitleSize(0.05)\n",
    "plotHist.GetXaxis().SetTitleOffset(0.7)\n",
    "plotHist.GetXaxis().RotateTitle(x_rotate)\n",
    "\n",
    "\n",
    "plotHist.GetYaxis().SetTitle(y_axis_label)\n",
    "plotHist.GetYaxis().CenterTitle(y_axis_center)\n",
    "plotHist.GetYaxis().SetTitleSize(0.05)\n",
    "plotHist.GetYaxis().SetTitleOffset(0.75)\n",
    "plotHist.GetYaxis().RotateTitle(y_rotate)\n",
    "\n",
    "\n",
    "r.gStyle.SetPalette(57)   # pass3\n",
    "\n",
    "# r.gStyle.SetPalette(112)  # pass4\n",
    "# c.SetRightMargin(0.3)\n",
    "\n",
    "plotHist.Draw('colz')\n",
    "c.Draw()\n",
    "\n",
    "# c.SaveAs('./testagain.cpp')"
   ]
  },
  {
   "cell_type": "code",
   "execution_count": 24,
   "metadata": {},
   "outputs": [
    {
     "name": "stderr",
     "output_type": "stream",
     "text": [
      "Info in <TCanvas::Print>: pdf file ./Plots/pass3/x_y_1_pass3.pdf has been created\n"
     ]
    }
   ],
   "source": [
    "saveName = './Plots/pass3/x_y_1_pass3'\n",
    "c.SaveAs(f'{saveName}.pdf')"
   ]
  }
 ],
 "metadata": {
  "kernelspec": {
   "display_name": "Python 3.10.6 ('jupyter-pyroot')",
   "language": "python",
   "name": "python3"
  },
  "language_info": {
   "codemirror_mode": {
    "name": "ipython",
    "version": 3
   },
   "file_extension": ".py",
   "mimetype": "text/x-python",
   "name": "python",
   "nbconvert_exporter": "python",
   "pygments_lexer": "ipython3",
   "version": "3.10.6"
  },
  "orig_nbformat": 4,
  "vscode": {
   "interpreter": {
    "hash": "14854149bb0762231755f978a9b8a5714ba0c7efcabafb7a2eafaa23ad2b59b0"
   }
  }
 },
 "nbformat": 4,
 "nbformat_minor": 2
}
