{
 "cells": [
  {
   "cell_type": "code",
   "execution_count": 1,
   "metadata": {},
   "outputs": [
    {
     "name": "stderr",
     "output_type": "stream",
     "text": [
      "2022-09-14 12:34:45.712466: I tensorflow/core/platform/cpu_feature_guard.cc:193] This TensorFlow binary is optimized with oneAPI Deep Neural Network Library (oneDNN) to use the following CPU instructions in performance-critical operations:  AVX2 FMA\n",
      "To enable them in other operations, rebuild TensorFlow with the appropriate compiler flags.\n",
      "2022-09-14 12:34:46.447631: E tensorflow/stream_executor/cuda/cuda_blas.cc:2981] Unable to register cuBLAS factory: Attempting to register factory for plugin cuBLAS when one has already been registered\n",
      "2022-09-14 12:34:47.621508: W tensorflow/stream_executor/platform/default/dso_loader.cc:64] Could not load dynamic library 'libnvinfer.so.7'; dlerror: libnvinfer.so.7: cannot open shared object file: No such file or directory\n",
      "2022-09-14 12:34:47.621602: W tensorflow/stream_executor/platform/default/dso_loader.cc:64] Could not load dynamic library 'libnvinfer_plugin.so.7'; dlerror: libnvinfer_plugin.so.7: cannot open shared object file: No such file or directory\n",
      "2022-09-14 12:34:47.621610: W tensorflow/compiler/tf2tensorrt/utils/py_utils.cc:38] TF-TRT Warning: Cannot dlopen some TensorRT libraries. If you would like to use Nvidia GPU with TensorRT, please make sure the missing libraries mentioned above are installed properly.\n"
     ]
    }
   ],
   "source": [
    "import h5py\n",
    "import numpy\n",
    "import tensorflow as tf"
   ]
  },
  {
   "cell_type": "code",
   "execution_count": 2,
   "metadata": {},
   "outputs": [],
   "source": [
    "dataPath = '/home/WindowsDrive/Shared/Top_Tagging_Data/test.h5'\n",
    "# trainDictFile = open('trainDict.pkl', 'w')\n",
    "# testDictFile = open('testDict.pkl', 'w')\n",
    "tagger_type = 'pfn'"
   ]
  },
  {
   "cell_type": "code",
   "execution_count": 3,
   "metadata": {},
   "outputs": [],
   "source": [
    "def constituentProcessing(data_dict, max_constits):\n",
    "    pt = data_dict['fjet_clus_pt'][:,:max_constits]\n",
    "    eta = data_dict['fjet_clus_eta'][:,:max_constits]\n",
    "    phi = data_dict['fjet_clus_phi'][:,:max_constits]\n",
    "    energy = data_dict['fjet_clus_E'][:,:max_constits]\n"
   ]
  },
  {
   "cell_type": "code",
   "execution_count": 4,
   "metadata": {},
   "outputs": [],
   "source": [
    "with h5py.File(dataPath, 'r') as data:\n",
    "\n",
    "    dataKeys = data.keys()\n",
    "    numJets = data.attrs.get('num_jets')\n",
    "    halfNumJets = int(numJets / 2)\n",
    "\n",
    "    trainDict = {key: data[key][:halfNumJets,...] for key in data.attrs.get('constit')}\n",
    "    testDict = {key: data[key][halfNumJets:,...] for key in data.attrs.get('constit')}\n",
    "\n",
    "    # pickle.dump(trainDict, trainDictFile)\n",
    "    # pickle.dump(testDict, testDictFile)\n",
    "\n",
    "    train_labels = data['labels'][:halfNumJets]\n",
    "    train_weights = data['weights'][:halfNumJets]\n",
    "    test_labels = data['labels'][halfNumJets:]\n",
    "    test_weights = data['labels'][halfNumJets:]\n"
   ]
  },
  {
   "cell_type": "code",
   "execution_count": 7,
   "metadata": {},
   "outputs": [
    {
     "name": "stdout",
     "output_type": "stream",
     "text": [
      "[0 0 0 0 1 1 1 1 0 1 1 1 0 0 0 1 1 0 0 0]\n"
     ]
    }
   ],
   "source": [
    "print(train_labels[:20])"
   ]
  }
 ],
 "metadata": {
  "kernelspec": {
   "display_name": "Python 3.10.4 64-bit",
   "language": "python",
   "name": "python3"
  },
  "language_info": {
   "codemirror_mode": {
    "name": "ipython",
    "version": 3
   },
   "file_extension": ".py",
   "mimetype": "text/x-python",
   "name": "python",
   "nbconvert_exporter": "python",
   "pygments_lexer": "ipython3",
   "version": "3.10.4"
  },
  "orig_nbformat": 4,
  "vscode": {
   "interpreter": {
    "hash": "916dbcbb3f70747c44a77c7bcd40155683ae19c65e1c03b4aa3499c5328201f1"
   }
  }
 },
 "nbformat": 4,
 "nbformat_minor": 2
}
