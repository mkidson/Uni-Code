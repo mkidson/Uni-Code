{
 "cells": [
  {
   "cell_type": "code",
   "execution_count": 1,
   "metadata": {},
   "outputs": [],
   "source": [
    "import h5py\n",
    "import numpy as np\n",
    "import keras\n",
    "from keras.models import Sequential\n",
    "from keras.layers import Dense  \n",
    "from keras import backend as K\n",
    "from sklearn.model_selection import train_test_split\n",
    "import pandas as pd\n",
    "import tables\n",
    "import matplotlib.pyplot as plt\n",
    "import tensorflow as tf\n",
    "import preprocessing"
   ]
  },
  {
   "cell_type": "code",
   "execution_count": 2,
   "metadata": {},
   "outputs": [
    {
     "name": "stderr",
     "output_type": "stream",
     "text": [
      "2022-09-25 12:25:20.046955: I tensorflow/stream_executor/cuda/cuda_gpu_executor.cc:975] successful NUMA node read from SysFS had negative value (-1), but there must be at least one NUMA node, so returning NUMA node zero\n",
      "2022-09-25 12:25:20.132046: I tensorflow/stream_executor/cuda/cuda_gpu_executor.cc:975] successful NUMA node read from SysFS had negative value (-1), but there must be at least one NUMA node, so returning NUMA node zero\n",
      "2022-09-25 12:25:20.132482: I tensorflow/stream_executor/cuda/cuda_gpu_executor.cc:975] successful NUMA node read from SysFS had negative value (-1), but there must be at least one NUMA node, so returning NUMA node zero\n",
      "2022-09-25 12:25:20.134286: I tensorflow/core/platform/cpu_feature_guard.cc:193] This TensorFlow binary is optimized with oneAPI Deep Neural Network Library (oneDNN) to use the following CPU instructions in performance-critical operations:  AVX2 FMA\n",
      "To enable them in other operations, rebuild TensorFlow with the appropriate compiler flags.\n",
      "2022-09-25 12:25:20.136120: I tensorflow/stream_executor/cuda/cuda_gpu_executor.cc:975] successful NUMA node read from SysFS had negative value (-1), but there must be at least one NUMA node, so returning NUMA node zero\n",
      "2022-09-25 12:25:20.136627: I tensorflow/stream_executor/cuda/cuda_gpu_executor.cc:975] successful NUMA node read from SysFS had negative value (-1), but there must be at least one NUMA node, so returning NUMA node zero\n",
      "2022-09-25 12:25:20.137006: I tensorflow/stream_executor/cuda/cuda_gpu_executor.cc:975] successful NUMA node read from SysFS had negative value (-1), but there must be at least one NUMA node, so returning NUMA node zero\n",
      "2022-09-25 12:25:21.556030: I tensorflow/stream_executor/cuda/cuda_gpu_executor.cc:975] successful NUMA node read from SysFS had negative value (-1), but there must be at least one NUMA node, so returning NUMA node zero\n",
      "2022-09-25 12:25:21.556410: I tensorflow/stream_executor/cuda/cuda_gpu_executor.cc:975] successful NUMA node read from SysFS had negative value (-1), but there must be at least one NUMA node, so returning NUMA node zero\n",
      "2022-09-25 12:25:21.556680: I tensorflow/stream_executor/cuda/cuda_gpu_executor.cc:975] successful NUMA node read from SysFS had negative value (-1), but there must be at least one NUMA node, so returning NUMA node zero\n",
      "2022-09-25 12:25:21.556891: I tensorflow/core/common_runtime/gpu/gpu_device.cc:1532] Created device /job:localhost/replica:0/task:0/device:GPU:0 with 3373 MB memory:  -> device: 0, name: NVIDIA GeForce GTX 1050 Ti with Max-Q Design, pci bus id: 0000:01:00.0, compute capability: 6.1\n"
     ]
    }
   ],
   "source": [
    "model = keras.models.load_model('models/highLevel_preprocessed_no_weights_processing')"
   ]
  },
  {
   "cell_type": "code",
   "execution_count": 22,
   "metadata": {},
   "outputs": [],
   "source": [
    "dataPath = '/home/WindowsDrive/Shared/Top_Tagging_Data/test.h5'\n",
    "with h5py.File(dataPath, 'r') as data:\n",
    "\n",
    "    npDataLabels = np.array(data['labels'])\n",
    "\n",
    "    npDataWeights = np.array(data['weights'])\n",
    "\n",
    "    jetVars = {key: data[key][...] for key in data.attrs.get('jet')}\n",
    "    \n",
    "    hlDataArr = {key: data[key][...] for key in data.attrs.get('hl')}\n",
    "\n",
    "processed_dict = preprocessing.high_level(hlDataArr)\n",
    "processed_df = pd.DataFrame(processed_dict)\n",
    "\n",
    "jetVarsArr = [val for val in jetVars.values()]\n",
    "jetVarsDf = pd.DataFrame(np.stack(jetVarsArr, axis=-1))\n",
    "\n",
    "data_train, data_test, labels_train, labels_test, weights_train, weights_test, jetVars_train, jetVars_test = train_test_split(processed_df, npDataLabels, npDataWeights, jetVarsDf, test_size=0.33, random_state=69, shuffle=True)"
   ]
  },
  {
   "cell_type": "markdown",
   "metadata": {},
   "source": [
    "## Now to start analysing"
   ]
  },
  {
   "cell_type": "code",
   "execution_count": 23,
   "metadata": {},
   "outputs": [
    {
     "name": "stdout",
     "output_type": "stream",
     "text": [
      "25618/25618 [==============================] - 45s 2ms/step\n"
     ]
    }
   ],
   "source": [
    "testPreds = model.predict(data_test)"
   ]
  },
  {
   "cell_type": "code",
   "execution_count": 25,
   "metadata": {},
   "outputs": [
    {
     "name": "stdout",
     "output_type": "stream",
     "text": [
      "dict_keys(['fjet_pt', 'fjet_eta', 'fjet_phi', 'fjet_m'])\n"
     ]
    }
   ],
   "source": [
    "print(jetVars.keys())"
   ]
  },
  {
   "cell_type": "code",
   "execution_count": 26,
   "metadata": {},
   "outputs": [],
   "source": [
    "data_test_new = data_test.copy()\n",
    "data_test_new['labels'] = labels_test\n",
    "data_test_new['weights'] = weights_test\n",
    "data_test_new['predictions'] = testPreds\n",
    "data_test_new['jet_pt'] = jetVars_test[0]\n",
    "data_test_new['jet_eta'] = jetVars_test[1]\n",
    "data_test_new['jet_phi'] = jetVars_test[2]\n",
    "data_test_new['jet_m'] = jetVars_test[3]"
   ]
  },
  {
   "cell_type": "code",
   "execution_count": 27,
   "metadata": {},
   "outputs": [
    {
     "data": {
      "image/png": "[encoded data removed]",
      "text/plain": [
       "<Figure size 640x480 with 1 Axes>"
      ]
     },
     "metadata": {},
     "output_type": "display_data"
    }
   ],
   "source": [
    "sigIndices = data_test_new['labels'] == 1\n",
    "bkgIndices = data_test_new['labels'] == 0\n",
    "\n",
    "plt.figure()\n",
    "plt.xlabel('Neural Net Prediction')\n",
    "plt.ylabel('Counts')\n",
    "\n",
    "bkgHist = plt.hist(data_test_new['predictions'][bkgIndices], bins=10, weights=data_test_new['weights'][bkgIndices], label='bkg', alpha=0.5)\n",
    "sigHist = plt.hist(data_test_new['predictions'][sigIndices], bins=10, weights=data_test_new['weights'][sigIndices], label='sig', alpha=0.5)\n",
    "\n",
    "# bkgHistNN = plt.hist(backgroundVals[\"predictions\"], bins=5, weights=backgroundVals[\"weights\"],label=\"backgrounds\", range=[0,1], alpha=0.6)\n",
    "# sigHistNN = plt.hist(signalVals[\"predictions\"], bins=5, weights=signalVals[\"weights\"],  label=r\"$H\\rightarrow \\tau\\tau$ signal\",range=[0,1], alpha=0.6)\n",
    "\n",
    "# bkgHistNN = plt.hist(backgroundVals['predictions'], bins=5, label=\"backgrounds\", range=[0,1], alpha=0.6)\n",
    "# sigHistNN = plt.hist(signalVals['predictions'], bins=5, label=\"signals\", range=[0,1], alpha=0.6)\n",
    "\n",
    "plt.legend()\n",
    "# plt.yscale('log')\n",
    "plt.show() "
   ]
  },
  {
   "cell_type": "code",
   "execution_count": 13,
   "metadata": {},
   "outputs": [
    {
     "name": "stdout",
     "output_type": "stream",
     "text": [
      "Index(['fjet_Tau1_wta', 'fjet_Tau2_wta', 'fjet_Tau3_wta', 'fjet_Tau4_wta',\n",
      "       'fjet_Split12', 'fjet_Split23', 'fjet_ECF1', 'fjet_ECF2', 'fjet_ECF3',\n",
      "       'fjet_C2', 'fjet_D2', 'fjet_Qw', 'fjet_L2', 'fjet_L3', 'fjet_ThrustMaj',\n",
      "       'labels', 'weights', 'predictions'],\n",
      "      dtype='object')\n"
     ]
    }
   ],
   "source": [
    "print(data_test_new.columns)"
   ]
  }
 ],
 "metadata": {
  "kernelspec": {
   "display_name": "Python 3.10.4 64-bit",
   "language": "python",
   "name": "python3"
  },
  "language_info": {
   "codemirror_mode": {
    "name": "ipython",
    "version": 3
   },
   "file_extension": ".py",
   "mimetype": "text/x-python",
   "name": "python",
   "nbconvert_exporter": "python",
   "pygments_lexer": "ipython3",
   "version": "3.10.4"
  },
  "orig_nbformat": 4,
  "vscode": {
   "interpreter": {
    "hash": "e7370f93d1d0cde622a1f8e1c04877d8463912d04d973331ad4851f04de6915a"
   }
  }
 },
 "nbformat": 4,
 "nbformat_minor": 2
}
