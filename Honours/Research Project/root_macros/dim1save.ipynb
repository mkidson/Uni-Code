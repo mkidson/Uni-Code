{
 "cells": [
  {
   "cell_type": "code",
   "execution_count": 1,
   "metadata": {},
   "outputs": [
    {
     "name": "stdout",
     "output_type": "stream",
     "text": [
      "Welcome to JupyROOT 6.26/06\n"
     ]
    }
   ],
   "source": [
    "import ROOT as r"
   ]
  },
  {
   "cell_type": "code",
   "execution_count": 2,
   "metadata": {},
   "outputs": [
    {
     "name": "stdout",
     "output_type": "stream",
     "text": [
      "Collection name='THashList', class='THashList', size=1\n",
      " TKey Name = hist-registry, Title = hist-registry, Cycle = 1\n"
     ]
    }
   ],
   "source": [
    "filename = './Data/ITS/AnalysisResults_pass4_TracksIU_nohasITS.root'\n",
    "f = r.TFile(filename)\n",
    "f.GetListOfKeys().Print()"
   ]
  },
  {
   "cell_type": "code",
   "execution_count": 3,
   "metadata": {},
   "outputs": [
    {
     "name": "stdout",
     "output_type": "stream",
     "text": [
      "Collection name='THashList', class='THashList', size=10\n",
      " TKey Name = eta, Title = object title, Cycle = 1\n",
      " TKey Name = eta_phi, Title = object title, Cycle = 1\n",
      " TKey Name = itsClusterMap, Title = object title, Cycle = 1\n",
      " TKey Name = itsNCls, Title = object title, Cycle = 1\n",
      " TKey Name = itsNClsInnerBarrel, Title = object title, Cycle = 1\n",
      " TKey Name = NCls_ClusterMap, Title = object title, Cycle = 1\n",
      " TKey Name = phi, Title = object title, Cycle = 1\n",
      " TKey Name = pT, Title = object title, Cycle = 1\n",
      " TKey Name = x_y, Title = object title, Cycle = 1\n",
      " TKey Name = Z, Title = object title, Cycle = 1\n"
     ]
    }
   ],
   "source": [
    "histRegistryName = 'hist-registry'\n",
    "f.cd(histRegistryName)\n",
    "r.gDirectory.GetListOfKeys().Print()"
   ]
  },
  {
   "cell_type": "code",
   "execution_count": 4,
   "metadata": {},
   "outputs": [],
   "source": [
    "histName = 'itsNCls'\n",
    "plotHist = r.gDirectory.Get(histName)"
   ]
  },
  {
   "cell_type": "code",
   "execution_count": 5,
   "metadata": {},
   "outputs": [],
   "source": [
    "title = 'Number of clusters per track in the ITS'\n",
    "x_axis_label = 'nClusters'\n",
    "x_axis_center = False\n",
    "y_axis_label = 'Counts'\n",
    "y_axis_center = False\n",
    "log_x = False\n",
    "log_y = False\n",
    "grid_x = False\n",
    "grid_y = False\n",
    "aspectRatio = 1.7\n",
    "line_colour = '#0000FF'\n",
    "line_colour2 = '#FF0000'\n",
    "fill_colour = '#c6d5eb'\n",
    "fill_colour2 = '#FFC7C9'\n",
    "line_colour3 = '#00FF00'\n",
    "fill_colour3 = '#C6FFC3'\n",
    "\n",
    "\n"
   ]
  },
  {
   "cell_type": "code",
   "execution_count": 6,
   "metadata": {},
   "outputs": [
    {
     "data": {
      "image/png": "[encoded data removed]",
      "text/plain": [
       "<IPython.core.display.Image object>"
      ]
     },
     "metadata": {},
     "output_type": "display_data"
    }
   ],
   "source": [
    "c = r.TCanvas()\n",
    "c.SetGridx(grid_x)\n",
    "c.SetGridy(grid_y)\n",
    "c.SetLogx(log_x)\n",
    "c.SetLogy(log_y)\n",
    "# c.SetRealAspectRatio(2)\n",
    "canvasHeight = c.GetWh()\n",
    "# c.SetCanvasSize(int(aspectRatio * canvasHeight), canvasHeight)\n",
    "\n",
    "plotHist.SetStats(0)\n",
    "plotHist.SetLineWidth(2)\n",
    "plotHist.SetLineColor(r.TColor.GetColor(line_colour2))\n",
    "plotHist.SetFillColor(r.TColor.GetColor(fill_colour2))\n",
    "\n",
    "\n",
    "\n",
    "plotHist.SetTitle(title)\n",
    "\n",
    "plotHist.GetXaxis().SetTitle(x_axis_label)\n",
    "plotHist.GetXaxis().CenterTitle(x_axis_center)\n",
    "plotHist.GetXaxis().SetTitleSize(0.05)\n",
    "plotHist.GetXaxis().SetTitleOffset(0.7)\n",
    "\n",
    "\n",
    "plotHist.GetYaxis().SetTitle(y_axis_label)\n",
    "plotHist.GetYaxis().CenterTitle(y_axis_center)\n",
    "plotHist.GetYaxis().SetTitleSize(0.05)\n",
    "plotHist.GetYaxis().SetTitleOffset(1)\n",
    "\n",
    "# plotHist.Fit('gaus')\n",
    "\n",
    "# r.gStyle.SetOptFit(1001)\n",
    "# r.gStyle.SetOptStat(\"n\")\n",
    "# gausFit = plotHist.GetFunction('gaus')\n",
    "\n",
    "# leg = r.TLegend(0.1245111,0.626322,0.4243807,0.8354877)\n",
    "# leg.AddEntry(gausFit, 'fit')\n",
    "# leg.SetFillColorAlpha(1,0)\n",
    "# leg.SetLineColorAlpha(1,0)\n",
    "# leg.SetTextSize(0.04)\n",
    "\n",
    "\n",
    "plotHist.Draw()\n",
    "c.Draw()\n",
    "\n",
    "# c.SaveAs('./testagain.cpp')"
   ]
  },
  {
   "cell_type": "code",
   "execution_count": 7,
   "metadata": {},
   "outputs": [
    {
     "name": "stderr",
     "output_type": "stream",
     "text": [
      "Info in <TCanvas::Print>: pdf file ./Plots/pass4_TracksIU_nohasITS/itsNCls.pdf has been created\n"
     ]
    }
   ],
   "source": [
    "savename = './Plots/pass4_TracksIU_nohasITS/itsNCls'\n",
    "c.SaveAs(f'{savename}.pdf')"
   ]
  }
 ],
 "metadata": {
  "kernelspec": {
   "display_name": "Python 3.10.6 ('jupyter-pyroot')",
   "language": "python",
   "name": "python3"
  },
  "language_info": {
   "codemirror_mode": {
    "name": "ipython",
    "version": 3
   },
   "file_extension": ".py",
   "mimetype": "text/x-python",
   "name": "python",
   "nbconvert_exporter": "python",
   "pygments_lexer": "ipython3",
   "version": "3.10.6"
  },
  "orig_nbformat": 4,
  "vscode": {
   "interpreter": {
    "hash": "14854149bb0762231755f978a9b8a5714ba0c7efcabafb7a2eafaa23ad2b59b0"
   }
  }
 },
 "nbformat": 4,
 "nbformat_minor": 2
}
