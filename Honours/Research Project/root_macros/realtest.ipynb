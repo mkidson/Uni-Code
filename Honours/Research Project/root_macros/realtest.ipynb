{
 "cells": [
  {
   "cell_type": "code",
   "execution_count": 1,
   "metadata": {},
   "outputs": [
    {
     "name": "stdout",
     "output_type": "stream",
     "text": [
      "Welcome to JupyROOT 6.26/06\n"
     ]
    }
   ],
   "source": [
    "import ROOT as r"
   ]
  },
  {
   "cell_type": "code",
   "execution_count": 47,
   "metadata": {},
   "outputs": [
    {
     "name": "stdout",
     "output_type": "stream",
     "text": [
      "Collection name='THashList', class='THashList', size=1\n",
      " TKey Name = fwd-registry, Title = fwd-registry, Cycle = 1\n"
     ]
    }
   ],
   "source": [
    "f = r.TFile('AnalysisResults_pass4_full_weird.root')\n",
    "a = f.GetListOfKeys().Print()"
   ]
  },
  {
   "cell_type": "code",
   "execution_count": 48,
   "metadata": {},
   "outputs": [],
   "source": [
    "a"
   ]
  },
  {
   "cell_type": "code",
   "execution_count": 50,
   "metadata": {},
   "outputs": [],
   "source": [
    "f.cd('fwd-registry')\n",
    "phi = r.gDirectory.Get('phi')\n",
    "MFTeta = r.gDirectory.Get('MFTeta')"
   ]
  },
  {
   "cell_type": "code",
   "execution_count": 51,
   "metadata": {},
   "outputs": [
    {
     "name": "stderr",
     "output_type": "stream",
     "text": [
      "Info in <TCanvas::Print>: pdf file ./testSave.pdf has been created\n"
     ]
    },
    {
     "data": {
      "image/png": "[encoded data removed]",
      "text/plain": [
       "<IPython.core.display.Image object>"
      ]
     },
     "metadata": {},
     "output_type": "display_data"
    }
   ],
   "source": [
    "myCanvas = r.TCanvas()\n",
    "# phi.Draw()\n",
    "MFTeta.Draw()\n",
    "# h = r.TH1F('myHist', 'hist title', 20, -5, 5)\n",
    "# # h.FillRandom('gaus')\n",
    "# h.Fill(0,5)\n",
    "MFTeta.SetStats(0)\n",
    "# h.Draw('hist')\n",
    "myCanvas.Draw()\n",
    "myCanvas.SaveAs('./testSave.pdf')"
   ]
  },
  {
   "cell_type": "code",
   "execution_count": 19,
   "metadata": {},
   "outputs": [
    {
     "data": {
      "text/plain": [
       "<cppyy.gbl.TROOT object at 0x7ff1b3a22960>"
      ]
     },
     "execution_count": 19,
     "metadata": {},
     "output_type": "execute_result"
    }
   ],
   "source": [
    "r.gROOT"
   ]
  }
 ],
 "metadata": {
  "kernelspec": {
   "display_name": "Python 3.10.6 ('jupyter-pyroot')",
   "language": "python",
   "name": "python3"
  },
  "language_info": {
   "codemirror_mode": {
    "name": "ipython",
    "version": 3
   },
   "file_extension": ".py",
   "mimetype": "text/x-python",
   "name": "python",
   "nbconvert_exporter": "python",
   "pygments_lexer": "ipython3",
   "version": "3.10.6"
  },
  "orig_nbformat": 4,
  "vscode": {
   "interpreter": {
    "hash": "14854149bb0762231755f978a9b8a5714ba0c7efcabafb7a2eafaa23ad2b59b0"
   }
  }
 },
 "nbformat": 4,
 "nbformat_minor": 2
}
