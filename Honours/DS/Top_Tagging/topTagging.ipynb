{
 "cells": [
  {
   "cell_type": "code",
   "execution_count": 8,
   "metadata": {},
   "outputs": [],
   "source": [
    "import h5py\n",
    "import numpy as np\n",
    "import keras\n",
    "from keras.models import Sequential\n",
    "from keras.layers import Dense  \n",
    "from keras import backend as K\n",
    "from sklearn.model_selection import train_test_split\n",
    "import pandas as pd\n",
    "import tables\n",
    "import matplotlib.pyplot as plt\n",
    "import tensorflow as tf\n",
    "import preprocessing\n"
   ]
  },
  {
   "cell_type": "code",
   "execution_count": 2,
   "metadata": {},
   "outputs": [],
   "source": [
    "dataPath = '/home/WindowsDrive/Shared/Top_Tagging_Data/test.h5'\n",
    "# trainDictFile = open('trainDict.pkl', 'w')\n",
    "# testDictFile = open('testDict.pkl', 'w')\n",
    "# tagger_type = 'pfn'"
   ]
  },
  {
   "cell_type": "markdown",
   "metadata": {},
   "source": [
    "## Putting the data into an array, as well as making the arrays of labels and weights, then saving them to file so we don't need to leave them in memory the whole time\n",
    "\n",
    "## DON'T RUN THIS AGAIN UNLESS YOU HAVE TO"
   ]
  },
  {
   "cell_type": "code",
   "execution_count": 3,
   "metadata": {},
   "outputs": [
    {
     "data": {
      "text/plain": [
       "\"\\n\\nwith h5py.File(dataPath, 'r') as data:\\n\\n    npDataLabels = np.array(data['labels'])\\n    np.save('/home/WindowsDrive/Shared/Top_Tagging_Data/npDataLabels.npy', npDataLabels)\\n    del(npDataLabels)\\n\\n    npDataWeights = np.array(data['weights'])\\n    np.save('/home/WindowsDrive/Shared/Top_Tagging_Data/npDataWeights.npy', npDataWeights)\\n    del(npDataWeights)\\n\\n    \\n    constitDataArr = []\\n\\n    for key in data.attrs.get('constit'):\\n        constitDataArr.append(data[key][...])\\n\\n    npConstitDataArr = np.array(constitDataArr)\\n    del(constitDataArr)\\n\\n    np.save('/home/WindowsDrive/Shared/Top_Tagging_Data/npConstitDataArr.npy', npConstitDataArr)\\n    del(npConstitDataArr)\\n\\n    jetDataArr = []\\n\\n    for key in ['fjet_eta', 'fjet_m', 'fjet_phi', 'fjet_pt']:\\n        jetDataArr.append(data[key][...])\\n    \\n    npJetDataArr = np.array(jetDataArr)\\n    del(jetDataArr)\\n\\n    np.save('/home/WindowsDrive/Shared/Top_Tagging_Data/npJetDataArr.npy', npJetDataArr)\\n    del(npJetDataArr)\\n\\n\""
      ]
     },
     "execution_count": 3,
     "metadata": {},
     "output_type": "execute_result"
    }
   ],
   "source": [
    "\"\"\"\n",
    "\n",
    "with h5py.File(dataPath, 'r') as data:\n",
    "\n",
    "    npDataLabels = np.array(data['labels'])\n",
    "    np.save('/home/WindowsDrive/Shared/Top_Tagging_Data/npDataLabels.npy', npDataLabels)\n",
    "    del(npDataLabels)\n",
    "\n",
    "    npDataWeights = np.array(data['weights'])\n",
    "    np.save('/home/WindowsDrive/Shared/Top_Tagging_Data/npDataWeights.npy', npDataWeights)\n",
    "    del(npDataWeights)\n",
    "\n",
    "    \n",
    "    constitDataArr = []\n",
    "\n",
    "    for key in data.attrs.get('constit'):\n",
    "        constitDataArr.append(data[key][...])\n",
    "\n",
    "    npConstitDataArr = np.array(constitDataArr)\n",
    "    del(constitDataArr)\n",
    "\n",
    "    np.save('/home/WindowsDrive/Shared/Top_Tagging_Data/npConstitDataArr.npy', npConstitDataArr)\n",
    "    del(npConstitDataArr)\n",
    "\n",
    "    jetDataArr = []\n",
    "\n",
    "    for key in ['fjet_eta', 'fjet_m', 'fjet_phi', 'fjet_pt']:\n",
    "        jetDataArr.append(data[key][...])\n",
    "    \n",
    "    npJetDataArr = np.array(jetDataArr)\n",
    "    del(jetDataArr)\n",
    "\n",
    "    np.save('/home/WindowsDrive/Shared/Top_Tagging_Data/npJetDataArr.npy', npJetDataArr)\n",
    "    del(npJetDataArr)\n",
    "\n",
    "\"\"\"\n"
   ]
  },
  {
   "cell_type": "markdown",
   "metadata": {},
   "source": [
    "## Here we import the data again and split it up into test and train"
   ]
  },
  {
   "cell_type": "code",
   "execution_count": 4,
   "metadata": {},
   "outputs": [
    {
     "data": {
      "text/plain": [
       "\"constitDataArr = np.load('/home/WindowsDrive/Shared/Top_Tagging_Data/npConstitDataArr.npy')\\nlabelsArr = np.load('/home/WindowsDrive/Shared/Top_Tagging_Data/npDataLabels.npy')\\nweightsArr = np.load('/home/WindowsDrive/Shared/Top_Tagging_Data/npDataWeights.npy')\\n\\npt_train, pt_test, eta_train, eta_test, phi_train, phi_test, E_train, E_test, labels_train, labels_test, weights_train, weights_test = train_test_split(constitDataArr[0], constitDataArr[1], constitDataArr[2], constitDataArr[3], labelsArr, weightsArr, test_size=0.33, random_state=69, shuffle=True)\\n\\ndel(constitDataArr)\\ndel(labelsArr)\\ndel(weightsArr)\""
      ]
     },
     "execution_count": 4,
     "metadata": {},
     "output_type": "execute_result"
    }
   ],
   "source": [
    "\"\"\"constitDataArr = np.load('/home/WindowsDrive/Shared/Top_Tagging_Data/npConstitDataArr.npy')\n",
    "labelsArr = np.load('/home/WindowsDrive/Shared/Top_Tagging_Data/npDataLabels.npy')\n",
    "weightsArr = np.load('/home/WindowsDrive/Shared/Top_Tagging_Data/npDataWeights.npy')\n",
    "\n",
    "pt_train, pt_test, eta_train, eta_test, phi_train, phi_test, E_train, E_test, labels_train, labels_test, weights_train, weights_test = train_test_split(constitDataArr[0], constitDataArr[1], constitDataArr[2], constitDataArr[3], labelsArr, weightsArr, test_size=0.33, random_state=69, shuffle=True)\n",
    "\n",
    "del(constitDataArr)\n",
    "del(labelsArr)\n",
    "del(weightsArr)\"\"\"\n"
   ]
  },
  {
   "cell_type": "markdown",
   "metadata": {},
   "source": [
    "## Trying high level now instead of constituent because fuck that much data"
   ]
  },
  {
   "cell_type": "code",
   "execution_count": 11,
   "metadata": {},
   "outputs": [],
   "source": [
    "with h5py.File(dataPath, 'r') as data:\n",
    "\n",
    "    npDataLabels = np.array(data['labels'])\n",
    "\n",
    "    npDataWeights = np.array(data['weights'])\n",
    "    \n",
    "    hlDataArr = {key: data[key][...] for key in data.attrs.get('hl')}\n"
   ]
  },
  {
   "cell_type": "markdown",
   "metadata": {},
   "source": [
    "## Preprocessing"
   ]
  },
  {
   "cell_type": "code",
   "execution_count": 12,
   "metadata": {},
   "outputs": [],
   "source": [
    "processed_dict = preprocessing.high_level(hlDataArr)\n",
    "processed_df = pd.DataFrame(hlDataArr)\n"
   ]
  },
  {
   "cell_type": "code",
   "execution_count": 13,
   "metadata": {},
   "outputs": [],
   "source": [
    "data_train, data_test, labels_train, labels_test, weights_train, weights_test = train_test_split(processed_df, npDataLabels, npDataWeights, test_size=0.33, random_state=69, shuffle=True)"
   ]
  },
  {
   "cell_type": "code",
   "execution_count": 11,
   "metadata": {},
   "outputs": [
    {
     "name": "stdout",
     "output_type": "stream",
     "text": [
      "831597.0\n",
      "833473.1\n"
     ]
    }
   ],
   "source": [
    "df_train = pd.DataFrame()\n",
    "df_train[\"label\"] = labels_train\n",
    "df_train[\"weights\"] = weights_train\n",
    "\n",
    "sigSumWeights = np.sum(df_train[df_train[\"label\"]==1][\"weights\"])\n",
    "bkgSumWeights = np.sum(df_train[df_train[\"label\"]==0][\"weights\"])\n",
    "\n",
    "print(sigSumWeights)\n",
    "\n",
    "scale = (bkgSumWeights/sigSumWeights)\n",
    "df_train.loc[df_train.label==1, \"weights\"] *= scale\n",
    "\n",
    "modsigSumWeights = np.sum(df_train[df_train[\"label\"]==1][\"weights\"])\n",
    "\n",
    "print(modsigSumWeights)\n",
    "\n",
    "\n",
    "final_weights_train = df_train[\"weights\"]"
   ]
  },
  {
   "cell_type": "code",
   "execution_count": 14,
   "metadata": {},
   "outputs": [
    {
     "name": "stdout",
     "output_type": "stream",
     "text": [
      "Epoch 1/8\n",
      "16644/16644 [==============================] - 49s 3ms/step - loss: 0.4096\n",
      "Epoch 2/8\n",
      "16644/16644 [==============================] - 49s 3ms/step - loss: 0.3762\n",
      "Epoch 3/8\n",
      "16644/16644 [==============================] - 49s 3ms/step - loss: 0.3720\n",
      "Epoch 4/8\n",
      "16644/16644 [==============================] - 49s 3ms/step - loss: 0.3695\n",
      "Epoch 5/8\n",
      "16644/16644 [==============================] - 51s 3ms/step - loss: 0.3684\n",
      "Epoch 6/8\n",
      "16644/16644 [==============================] - 50s 3ms/step - loss: 0.3672\n",
      "Epoch 7/8\n",
      "16644/16644 [==============================] - 49s 3ms/step - loss: 0.3666\n",
      "Epoch 8/8\n",
      "16644/16644 [==============================] - 49s 3ms/step - loss: 0.3658\n"
     ]
    },
    {
     "data": {
      "text/plain": [
       "<keras.callbacks.History at 0x7f915c39d000>"
      ]
     },
     "execution_count": 14,
     "metadata": {},
     "output_type": "execute_result"
    }
   ],
   "source": [
    "model = Sequential()\n",
    "model.add(keras.Input(shape=15))\n",
    "model.add(Dense(20, activation='relu', kernel_regularizer=None, kernel_initializer='glorot_uniform'))\n",
    "model.add(Dense(20, activation='relu', kernel_regularizer=None, kernel_initializer='glorot_uniform'))\n",
    "model.add(Dense(1, activation='sigmoid'))\n",
    "model.compile(loss='binary_crossentropy', optimizer='adam')   \n",
    "model.fit(data_train, labels_train, sample_weight=weights_train, epochs=8, batch_size=100, verbose=1)"
   ]
  },
  {
   "cell_type": "code",
   "execution_count": 15,
   "metadata": {},
   "outputs": [
    {
     "name": "stdout",
     "output_type": "stream",
     "text": [
      "25618/25618 [==============================] - 43s 2ms/step\n"
     ]
    }
   ],
   "source": [
    "pred_test = model.predict(data_test)\n"
   ]
  },
  {
   "cell_type": "code",
   "execution_count": 19,
   "metadata": {},
   "outputs": [
    {
     "data": {
      "image/png": "[encoded data removed]",
      "text/plain": [
       "<Figure size 640x480 with 1 Axes>"
      ]
     },
     "metadata": {},
     "output_type": "display_data"
    }
   ],
   "source": [
    "dfNN_test = pd.DataFrame()\n",
    "dfNN_test[\"labels\"] = labels_test\n",
    "dfNN_test[\"predictions\"] = pred_test\n",
    "dfNN_test[\"weights\"] = weights_test\n",
    "\n",
    "signalVals = dfNN_test[dfNN_test['labels']== 1] \n",
    "backgroundVals = dfNN_test[dfNN_test['labels']== 0] \n",
    "\n",
    "plt.figure()\n",
    "plt.xlabel(\"NN discriminant\")\n",
    "plt.ylabel(\"#exp. events\")\n",
    "\n",
    "bkgHistNN = plt.hist(backgroundVals[\"predictions\"], bins=5, weights=backgroundVals[\"weights\"],label=\"backgrounds\", range=[0,1], alpha=0.6)\n",
    "sigHistNN = plt.hist(signalVals[\"predictions\"], bins=5, weights=signalVals[\"weights\"],  label=r\"$H\\rightarrow \\tau\\tau$ signal\",range=[0,1], alpha=0.6)\n",
    "\n",
    "# bkgHistNN = plt.hist(backgroundVals['predictions'], bins=5, label=\"backgrounds\", range=[0,1], alpha=0.6)\n",
    "# sigHistNN = plt.hist(signalVals['predictions'], bins=5, label=\"signals\", range=[0,1], alpha=0.6)\n",
    "\n",
    "plt.legend()\n",
    "# plt.yscale('log')\n",
    "plt.show()"
   ]
  },
  {
   "cell_type": "code",
   "execution_count": 17,
   "metadata": {},
   "outputs": [
    {
     "name": "stdout",
     "output_type": "stream",
     "text": [
      "52012/52012 [==============================] - 86s 2ms/step\n"
     ]
    }
   ],
   "source": [
    "pred_train = model.predict(data_train)"
   ]
  },
  {
   "cell_type": "code",
   "execution_count": 18,
   "metadata": {},
   "outputs": [
    {
     "data": {
      "image/png": "[encoded data removed]",
      "text/plain": [
       "<Figure size 640x480 with 1 Axes>"
      ]
     },
     "metadata": {},
     "output_type": "display_data"
    }
   ],
   "source": [
    "dfNN_train = pd.DataFrame()\n",
    "dfNN_train[\"labels\"] = labels_train\n",
    "dfNN_train[\"predictions\"] = pred_train\n",
    "dfNN_train[\"weights\"] = weights_train\n",
    "\n",
    "signalVals = dfNN_train[dfNN_train['labels']== 1] \n",
    "backgroundVals = dfNN_train[dfNN_train['labels']== 0] \n",
    "\n",
    "plt.figure()\n",
    "plt.xlabel(\"NN discriminant\")\n",
    "plt.ylabel(\"#exp. events\")\n",
    "\n",
    "bkgHistNN = plt.hist(backgroundVals[\"predictions\"], bins=5, weights=backgroundVals[\"weights\"],label=\"backgrounds\", range=[0,1], alpha=0.6)\n",
    "sigHistNN = plt.hist(signalVals[\"predictions\"], bins=5, weights=signalVals[\"weights\"],  label=r\"$H\\rightarrow \\tau\\tau$ signal\",range=[0,1], alpha=0.6)\n",
    "\n",
    "plt.legend()\n",
    "#plt.yscale('log')\n",
    "plt.show()"
   ]
  },
  {
   "cell_type": "code",
   "execution_count": 20,
   "metadata": {},
   "outputs": [
    {
     "name": "stdout",
     "output_type": "stream",
     "text": [
      "INFO:tensorflow:Assets written to: ./models/highLevel_preprocessed_no_weights_processing/assets\n"
     ]
    }
   ],
   "source": [
    "model.save('./models/highLevel_preprocessed_no_weights_processing')"
   ]
  }
 ],
 "metadata": {
  "kernelspec": {
   "display_name": "Python 3.10.4 64-bit",
   "language": "python",
   "name": "python3"
  },
  "language_info": {
   "codemirror_mode": {
    "name": "ipython",
    "version": 3
   },
   "file_extension": ".py",
   "mimetype": "text/x-python",
   "name": "python",
   "nbconvert_exporter": "python",
   "pygments_lexer": "ipython3",
   "version": "3.6.8"
  },
  "orig_nbformat": 4,
  "vscode": {
   "interpreter": {
    "hash": "916dbcbb3f70747c44a77c7bcd40155683ae19c65e1c03b4aa3499c5328201f1"
   }
  }
 },
 "nbformat": 4,
 "nbformat_minor": 2
}
