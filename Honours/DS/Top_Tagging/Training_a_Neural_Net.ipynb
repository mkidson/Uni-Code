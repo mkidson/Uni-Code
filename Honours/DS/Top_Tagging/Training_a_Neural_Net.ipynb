{
 "cells": [
  {
   "cell_type": "markdown",
   "metadata": {
    "slideshow": {
     "slide_type": "slide"
    }
   },
   "source": [
    "# Training a Neural Net\n",
    "\n",
    "- Now that we have an undertanding of what *training* is, let's try it out!\n",
    "- I'll use **Keras**, a wrapper that takes care of the low-level configuration of **TensorFlow**\n",
    "- Only need the concepts of *neurons*, *layers*, *activtion function* etc. to build a NN in Keras "
   ]
  },
  {
   "cell_type": "markdown",
   "metadata": {
    "slideshow": {
     "slide_type": "slide"
    }
   },
   "source": [
    "# Training requires **data**\n",
    "\n",
    "- Kaggle Higgs ML challenge\n",
    "\n",
    "   - In 2014, Kaggle (online ML community) partnered with ATLAS to stage an ML competition\n",
    "   - Teams were given signal ($H \\rightarrow\\tau \\tau$) and background ($Z \\rightarrow \\tau \\tau \\;, t\\bar{t} \\;, W \\rightarrow e/\\mu$) simulation\n",
    "   - The best classification performance (best *Approximate Median Significance*) wins!\n",
    "\n",
    "    # I'll use this dataset to demo the training of a classification NN\n"
   ]
  },
  {
   "cell_type": "code",
   "execution_count": 5,
   "metadata": {
    "slideshow": {
     "slide_type": "slide"
    }
   },
   "outputs": [],
   "source": [
    "import matplotlib\n",
    "matplotlib.rcParams['font.size'] = 16\n",
    "import matplotlib.pyplot as plt\n",
    "import numpy as np\n",
    "import keras\n",
    "from keras.models import Sequential\n",
    "from keras.layers import Dense  \n",
    "from keras import backend as K\n",
    "import pandas as pd\n",
    "from sklearn.model_selection import train_test_split\n",
    "from sklearn import preprocessing  "
   ]
  },
  {
   "cell_type": "code",
   "execution_count": 6,
   "metadata": {
    "slideshow": {
     "slide_type": "slide"
    }
   },
   "outputs": [
    {
     "data": {
      "text/html": [
       "<div>\n",
       "<style scoped>\n",
       "    .dataframe tbody tr th:only-of-type {\n",
       "        vertical-align: middle;\n",
       "    }\n",
       "\n",
       "    .dataframe tbody tr th {\n",
       "        vertical-align: top;\n",
       "    }\n",
       "\n",
       "    .dataframe thead th {\n",
       "        text-align: right;\n",
       "    }\n",
       "</style>\n",
       "<table border=\"1\" class=\"dataframe\">\n",
       "  <thead>\n",
       "    <tr style=\"text-align: right;\">\n",
       "      <th></th>\n",
       "      <th>EventId</th>\n",
       "      <th>DER_mass_MMC</th>\n",
       "      <th>DER_mass_transverse_met_lep</th>\n",
       "      <th>DER_mass_vis</th>\n",
       "      <th>DER_pt_h</th>\n",
       "      <th>DER_deltaeta_jet_jet</th>\n",
       "      <th>DER_mass_jet_jet</th>\n",
       "      <th>DER_prodeta_jet_jet</th>\n",
       "      <th>DER_deltar_tau_lep</th>\n",
       "      <th>DER_pt_tot</th>\n",
       "      <th>...</th>\n",
       "      <th>PRI_jet_num</th>\n",
       "      <th>PRI_jet_leading_pt</th>\n",
       "      <th>PRI_jet_leading_eta</th>\n",
       "      <th>PRI_jet_leading_phi</th>\n",
       "      <th>PRI_jet_subleading_pt</th>\n",
       "      <th>PRI_jet_subleading_eta</th>\n",
       "      <th>PRI_jet_subleading_phi</th>\n",
       "      <th>PRI_jet_all_pt</th>\n",
       "      <th>Weight</th>\n",
       "      <th>Label</th>\n",
       "    </tr>\n",
       "  </thead>\n",
       "  <tbody>\n",
       "    <tr>\n",
       "      <th>0</th>\n",
       "      <td>100000</td>\n",
       "      <td>138.470</td>\n",
       "      <td>51.655</td>\n",
       "      <td>97.827</td>\n",
       "      <td>27.980</td>\n",
       "      <td>0.91</td>\n",
       "      <td>124.711</td>\n",
       "      <td>2.666</td>\n",
       "      <td>3.064</td>\n",
       "      <td>41.928</td>\n",
       "      <td>...</td>\n",
       "      <td>2</td>\n",
       "      <td>67.435</td>\n",
       "      <td>2.150</td>\n",
       "      <td>0.444</td>\n",
       "      <td>46.062</td>\n",
       "      <td>1.24</td>\n",
       "      <td>-2.475</td>\n",
       "      <td>113.497</td>\n",
       "      <td>0.002653</td>\n",
       "      <td>s</td>\n",
       "    </tr>\n",
       "    <tr>\n",
       "      <th>1</th>\n",
       "      <td>100001</td>\n",
       "      <td>160.937</td>\n",
       "      <td>68.768</td>\n",
       "      <td>103.235</td>\n",
       "      <td>48.146</td>\n",
       "      <td>-999.00</td>\n",
       "      <td>-999.000</td>\n",
       "      <td>-999.000</td>\n",
       "      <td>3.473</td>\n",
       "      <td>2.078</td>\n",
       "      <td>...</td>\n",
       "      <td>1</td>\n",
       "      <td>46.226</td>\n",
       "      <td>0.725</td>\n",
       "      <td>1.158</td>\n",
       "      <td>-999.000</td>\n",
       "      <td>-999.00</td>\n",
       "      <td>-999.000</td>\n",
       "      <td>46.226</td>\n",
       "      <td>2.233584</td>\n",
       "      <td>b</td>\n",
       "    </tr>\n",
       "    <tr>\n",
       "      <th>2</th>\n",
       "      <td>100002</td>\n",
       "      <td>-999.000</td>\n",
       "      <td>162.172</td>\n",
       "      <td>125.953</td>\n",
       "      <td>35.635</td>\n",
       "      <td>-999.00</td>\n",
       "      <td>-999.000</td>\n",
       "      <td>-999.000</td>\n",
       "      <td>3.148</td>\n",
       "      <td>9.336</td>\n",
       "      <td>...</td>\n",
       "      <td>1</td>\n",
       "      <td>44.251</td>\n",
       "      <td>2.053</td>\n",
       "      <td>-2.028</td>\n",
       "      <td>-999.000</td>\n",
       "      <td>-999.00</td>\n",
       "      <td>-999.000</td>\n",
       "      <td>44.251</td>\n",
       "      <td>2.347389</td>\n",
       "      <td>b</td>\n",
       "    </tr>\n",
       "    <tr>\n",
       "      <th>3</th>\n",
       "      <td>100003</td>\n",
       "      <td>143.905</td>\n",
       "      <td>81.417</td>\n",
       "      <td>80.943</td>\n",
       "      <td>0.414</td>\n",
       "      <td>-999.00</td>\n",
       "      <td>-999.000</td>\n",
       "      <td>-999.000</td>\n",
       "      <td>3.310</td>\n",
       "      <td>0.414</td>\n",
       "      <td>...</td>\n",
       "      <td>0</td>\n",
       "      <td>-999.000</td>\n",
       "      <td>-999.000</td>\n",
       "      <td>-999.000</td>\n",
       "      <td>-999.000</td>\n",
       "      <td>-999.00</td>\n",
       "      <td>-999.000</td>\n",
       "      <td>-0.000</td>\n",
       "      <td>5.446378</td>\n",
       "      <td>b</td>\n",
       "    </tr>\n",
       "    <tr>\n",
       "      <th>4</th>\n",
       "      <td>100004</td>\n",
       "      <td>175.864</td>\n",
       "      <td>16.915</td>\n",
       "      <td>134.805</td>\n",
       "      <td>16.405</td>\n",
       "      <td>-999.00</td>\n",
       "      <td>-999.000</td>\n",
       "      <td>-999.000</td>\n",
       "      <td>3.891</td>\n",
       "      <td>16.405</td>\n",
       "      <td>...</td>\n",
       "      <td>0</td>\n",
       "      <td>-999.000</td>\n",
       "      <td>-999.000</td>\n",
       "      <td>-999.000</td>\n",
       "      <td>-999.000</td>\n",
       "      <td>-999.00</td>\n",
       "      <td>-999.000</td>\n",
       "      <td>0.000</td>\n",
       "      <td>6.245333</td>\n",
       "      <td>b</td>\n",
       "    </tr>\n",
       "    <tr>\n",
       "      <th>...</th>\n",
       "      <td>...</td>\n",
       "      <td>...</td>\n",
       "      <td>...</td>\n",
       "      <td>...</td>\n",
       "      <td>...</td>\n",
       "      <td>...</td>\n",
       "      <td>...</td>\n",
       "      <td>...</td>\n",
       "      <td>...</td>\n",
       "      <td>...</td>\n",
       "      <td>...</td>\n",
       "      <td>...</td>\n",
       "      <td>...</td>\n",
       "      <td>...</td>\n",
       "      <td>...</td>\n",
       "      <td>...</td>\n",
       "      <td>...</td>\n",
       "      <td>...</td>\n",
       "      <td>...</td>\n",
       "      <td>...</td>\n",
       "      <td>...</td>\n",
       "    </tr>\n",
       "    <tr>\n",
       "      <th>249995</th>\n",
       "      <td>349995</td>\n",
       "      <td>-999.000</td>\n",
       "      <td>71.989</td>\n",
       "      <td>36.548</td>\n",
       "      <td>5.042</td>\n",
       "      <td>-999.00</td>\n",
       "      <td>-999.000</td>\n",
       "      <td>-999.000</td>\n",
       "      <td>1.392</td>\n",
       "      <td>5.042</td>\n",
       "      <td>...</td>\n",
       "      <td>0</td>\n",
       "      <td>-999.000</td>\n",
       "      <td>-999.000</td>\n",
       "      <td>-999.000</td>\n",
       "      <td>-999.000</td>\n",
       "      <td>-999.00</td>\n",
       "      <td>-999.000</td>\n",
       "      <td>0.000</td>\n",
       "      <td>4.505083</td>\n",
       "      <td>b</td>\n",
       "    </tr>\n",
       "    <tr>\n",
       "      <th>249996</th>\n",
       "      <td>349996</td>\n",
       "      <td>-999.000</td>\n",
       "      <td>58.179</td>\n",
       "      <td>68.083</td>\n",
       "      <td>22.439</td>\n",
       "      <td>-999.00</td>\n",
       "      <td>-999.000</td>\n",
       "      <td>-999.000</td>\n",
       "      <td>2.585</td>\n",
       "      <td>22.439</td>\n",
       "      <td>...</td>\n",
       "      <td>0</td>\n",
       "      <td>-999.000</td>\n",
       "      <td>-999.000</td>\n",
       "      <td>-999.000</td>\n",
       "      <td>-999.000</td>\n",
       "      <td>-999.00</td>\n",
       "      <td>-999.000</td>\n",
       "      <td>-0.000</td>\n",
       "      <td>2.497259</td>\n",
       "      <td>b</td>\n",
       "    </tr>\n",
       "    <tr>\n",
       "      <th>249997</th>\n",
       "      <td>349997</td>\n",
       "      <td>105.457</td>\n",
       "      <td>60.526</td>\n",
       "      <td>75.839</td>\n",
       "      <td>39.757</td>\n",
       "      <td>-999.00</td>\n",
       "      <td>-999.000</td>\n",
       "      <td>-999.000</td>\n",
       "      <td>2.390</td>\n",
       "      <td>22.183</td>\n",
       "      <td>...</td>\n",
       "      <td>1</td>\n",
       "      <td>41.992</td>\n",
       "      <td>1.800</td>\n",
       "      <td>-0.166</td>\n",
       "      <td>-999.000</td>\n",
       "      <td>-999.00</td>\n",
       "      <td>-999.000</td>\n",
       "      <td>41.992</td>\n",
       "      <td>0.018636</td>\n",
       "      <td>s</td>\n",
       "    </tr>\n",
       "    <tr>\n",
       "      <th>249998</th>\n",
       "      <td>349998</td>\n",
       "      <td>94.951</td>\n",
       "      <td>19.362</td>\n",
       "      <td>68.812</td>\n",
       "      <td>13.504</td>\n",
       "      <td>-999.00</td>\n",
       "      <td>-999.000</td>\n",
       "      <td>-999.000</td>\n",
       "      <td>3.365</td>\n",
       "      <td>13.504</td>\n",
       "      <td>...</td>\n",
       "      <td>0</td>\n",
       "      <td>-999.000</td>\n",
       "      <td>-999.000</td>\n",
       "      <td>-999.000</td>\n",
       "      <td>-999.000</td>\n",
       "      <td>-999.00</td>\n",
       "      <td>-999.000</td>\n",
       "      <td>0.000</td>\n",
       "      <td>1.681611</td>\n",
       "      <td>b</td>\n",
       "    </tr>\n",
       "    <tr>\n",
       "      <th>249999</th>\n",
       "      <td>349999</td>\n",
       "      <td>-999.000</td>\n",
       "      <td>72.756</td>\n",
       "      <td>70.831</td>\n",
       "      <td>7.479</td>\n",
       "      <td>-999.00</td>\n",
       "      <td>-999.000</td>\n",
       "      <td>-999.000</td>\n",
       "      <td>2.025</td>\n",
       "      <td>7.479</td>\n",
       "      <td>...</td>\n",
       "      <td>0</td>\n",
       "      <td>-999.000</td>\n",
       "      <td>-999.000</td>\n",
       "      <td>-999.000</td>\n",
       "      <td>-999.000</td>\n",
       "      <td>-999.00</td>\n",
       "      <td>-999.000</td>\n",
       "      <td>0.000</td>\n",
       "      <td>1.877474</td>\n",
       "      <td>b</td>\n",
       "    </tr>\n",
       "  </tbody>\n",
       "</table>\n",
       "<p>250000 rows × 33 columns</p>\n",
       "</div>"
      ],
      "text/plain": [
       "        EventId  DER_mass_MMC  DER_mass_transverse_met_lep  DER_mass_vis  \\\n",
       "0        100000       138.470                       51.655        97.827   \n",
       "1        100001       160.937                       68.768       103.235   \n",
       "2        100002      -999.000                      162.172       125.953   \n",
       "3        100003       143.905                       81.417        80.943   \n",
       "4        100004       175.864                       16.915       134.805   \n",
       "...         ...           ...                          ...           ...   \n",
       "249995   349995      -999.000                       71.989        36.548   \n",
       "249996   349996      -999.000                       58.179        68.083   \n",
       "249997   349997       105.457                       60.526        75.839   \n",
       "249998   349998        94.951                       19.362        68.812   \n",
       "249999   349999      -999.000                       72.756        70.831   \n",
       "\n",
       "        DER_pt_h  DER_deltaeta_jet_jet  DER_mass_jet_jet  DER_prodeta_jet_jet  \\\n",
       "0         27.980                  0.91           124.711                2.666   \n",
       "1         48.146               -999.00          -999.000             -999.000   \n",
       "2         35.635               -999.00          -999.000             -999.000   \n",
       "3          0.414               -999.00          -999.000             -999.000   \n",
       "4         16.405               -999.00          -999.000             -999.000   \n",
       "...          ...                   ...               ...                  ...   \n",
       "249995     5.042               -999.00          -999.000             -999.000   \n",
       "249996    22.439               -999.00          -999.000             -999.000   \n",
       "249997    39.757               -999.00          -999.000             -999.000   \n",
       "249998    13.504               -999.00          -999.000             -999.000   \n",
       "249999     7.479               -999.00          -999.000             -999.000   \n",
       "\n",
       "        DER_deltar_tau_lep  DER_pt_tot  ...  PRI_jet_num  PRI_jet_leading_pt  \\\n",
       "0                    3.064      41.928  ...            2              67.435   \n",
       "1                    3.473       2.078  ...            1              46.226   \n",
       "2                    3.148       9.336  ...            1              44.251   \n",
       "3                    3.310       0.414  ...            0            -999.000   \n",
       "4                    3.891      16.405  ...            0            -999.000   \n",
       "...                    ...         ...  ...          ...                 ...   \n",
       "249995               1.392       5.042  ...            0            -999.000   \n",
       "249996               2.585      22.439  ...            0            -999.000   \n",
       "249997               2.390      22.183  ...            1              41.992   \n",
       "249998               3.365      13.504  ...            0            -999.000   \n",
       "249999               2.025       7.479  ...            0            -999.000   \n",
       "\n",
       "        PRI_jet_leading_eta  PRI_jet_leading_phi  PRI_jet_subleading_pt  \\\n",
       "0                     2.150                0.444                 46.062   \n",
       "1                     0.725                1.158               -999.000   \n",
       "2                     2.053               -2.028               -999.000   \n",
       "3                  -999.000             -999.000               -999.000   \n",
       "4                  -999.000             -999.000               -999.000   \n",
       "...                     ...                  ...                    ...   \n",
       "249995             -999.000             -999.000               -999.000   \n",
       "249996             -999.000             -999.000               -999.000   \n",
       "249997                1.800               -0.166               -999.000   \n",
       "249998             -999.000             -999.000               -999.000   \n",
       "249999             -999.000             -999.000               -999.000   \n",
       "\n",
       "        PRI_jet_subleading_eta  PRI_jet_subleading_phi  PRI_jet_all_pt  \\\n",
       "0                         1.24                  -2.475         113.497   \n",
       "1                      -999.00                -999.000          46.226   \n",
       "2                      -999.00                -999.000          44.251   \n",
       "3                      -999.00                -999.000          -0.000   \n",
       "4                      -999.00                -999.000           0.000   \n",
       "...                        ...                     ...             ...   \n",
       "249995                 -999.00                -999.000           0.000   \n",
       "249996                 -999.00                -999.000          -0.000   \n",
       "249997                 -999.00                -999.000          41.992   \n",
       "249998                 -999.00                -999.000           0.000   \n",
       "249999                 -999.00                -999.000           0.000   \n",
       "\n",
       "          Weight  Label  \n",
       "0       0.002653      s  \n",
       "1       2.233584      b  \n",
       "2       2.347389      b  \n",
       "3       5.446378      b  \n",
       "4       6.245333      b  \n",
       "...          ...    ...  \n",
       "249995  4.505083      b  \n",
       "249996  2.497259      b  \n",
       "249997  0.018636      s  \n",
       "249998  1.681611      b  \n",
       "249999  1.877474      b  \n",
       "\n",
       "[250000 rows x 33 columns]"
      ]
     },
     "execution_count": 6,
     "metadata": {},
     "output_type": "execute_result"
    }
   ],
   "source": [
    "df = pd.read_csv('../HiggsML/training.csv')\n",
    "df"
   ]
  },
  {
   "cell_type": "markdown",
   "metadata": {
    "slideshow": {
     "slide_type": "slide"
    }
   },
   "source": [
    "# Data pre-processing\n",
    "\n",
    "- extract -\n",
    "   - variables that discriminate between signal and background (*features*)\n",
    "   - labels that indicate whether the event is *signal* or *background*\n",
    "   - weights that tell us how much that event should count in the loss function... Why?\n",
    "\n",
    "- arrange this data in separate synchronous dataframe columns (or numpy arrays)"
   ]
  },
  {
   "cell_type": "markdown",
   "metadata": {
    "slideshow": {
     "slide_type": "slide"
    }
   },
   "source": [
    "# Data pre-processing\n",
    "\n",
    "- Split data into approximately equally-sized *training* and *test* set\n",
    "    - training set used to directly alter weights and biases and minimise loss function\n",
    "    - test set used to check performace and generalisability of network as batches passed through network\n",
    "    \n",
    "    \n",
    "- loss(training) and loss(test) sets decreases as training proceeds\n",
    "    - eventually, loss(training) $<$ loss(test) as network learns statitical fluctuations of training set\n",
    "    - This is **over-training** and needs to be avoided at all costs... Why is it so bad?\n",
    "        - In Keras usually terminate training once loss(training) $<<$ loss(test)"
   ]
  },
  {
   "cell_type": "code",
   "execution_count": 7,
   "metadata": {
    "slideshow": {
     "slide_type": "slide"
    }
   },
   "outputs": [
    {
     "name": "stdout",
     "output_type": "stream",
     "text": [
      "Number of signal events = 85667\n",
      "Number of background events = 164333\n"
     ]
    }
   ],
   "source": [
    "#extract features, labels, and event-weights\n",
    "Labels=df['Label']\n",
    "\n",
    "lb = preprocessing.LabelBinarizer()\n",
    "labels = lb.fit_transform(Labels)\n",
    "features = df.iloc[:,1:31]\n",
    "\n",
    "X=features\n",
    "y=np.ravel(labels)\n",
    "\n",
    "print(\"Number of signal events = \" + str(np.count_nonzero(y == 1)))\n",
    "print(\"Number of background events = \" + str(np.count_nonzero(y == 0)))\n",
    "\n",
    "weights = df['Weight']\n",
    "weights=np.ravel(weights) \n",
    "\n",
    "X_train, X_test, y_train, y_test, weights_train, weights_test = train_test_split(X, y, weights, test_size=0.33, random_state=42, shuffle=True)"
   ]
  },
  {
   "cell_type": "markdown",
   "metadata": {
    "slideshow": {
     "slide_type": "slide"
    }
   },
   "source": [
    "# How do we weight MC events in general?\n",
    "\n",
    "- we require our histograms to:\n",
    "   - represent our expected data under some hypothesis\n",
    "\n",
    "-  therefore the final weight must include:\n",
    "   - the cross section of the process, the luminosity\n",
    "   - weights (sometimes negative) produced by the MC generator\n",
    "   - weights that correct for known deficiences in the simulation\n",
    "       - e.g. b-tagging or trigger scale factors\n",
    "   \n",
    "$$ w_{final}  = \\sigma * \\mathcal{L} * w_{MC} * (w_{trigger} * w_{b-tagging} \\dots etc.) $$"
   ]
  },
  {
   "cell_type": "markdown",
   "metadata": {
    "slideshow": {
     "slide_type": "slide"
    }
   },
   "source": [
    "# What about when we are training an ML algorithm?\n",
    "\n",
    "- **optimally**, we want our training simulation to look like our data\n",
    "\n",
    "-  therefore the training simulation should include:\n",
    "   - the cross section of the process??, ~~the luminosity of the dataset~~\n",
    "   - weights (sometimes negative) produced by the MC generator\n",
    "   - weights that correct for known deficiences in the simulation\n",
    "       - e.g. b-tagging or trigger scale factors "
   ]
  },
  {
   "cell_type": "markdown",
   "metadata": {
    "slideshow": {
     "slide_type": "slide"
    }
   },
   "source": [
    "# In the case of a rare signal, this approach can lead to an undeperforming NN !\n",
    "\n",
    "- NN aims to discriminate between labelled data classes: S and B ($t = 1,0$)\n",
    "- The NN output, $p(x)$ (discriminator), is the predicted probability for the S class \n",
    "- Training NN minimises a **loss function**  \n",
    "- The *binary cross-entropy* for weighted events becomes:\n",
    "$$ C_{B} = \\sum_i - \\big[ ( t* \\ln p(x_i))  + (1-t)*(\\ln (1-p(x_i)) ) \\big] * w_{i}$$"
   ]
  },
  {
   "cell_type": "markdown",
   "metadata": {
    "slideshow": {
     "slide_type": "slide"
    }
   },
   "source": [
    "# weighting strategies\n",
    "- 1. **ignore weights altogether**: \n",
    "     - the relative contribution of the S and B classes to the loss function will depend on how many MC events of each class you generated!! ¯\\_(ツ)_/¯\n",
    "     - relative contributions of processes within mixed background class won't correspond to the SM! ¯\\_(ツ)_/¯\n",
    "- 2. **use $w_{final}$**\n",
    "   - theoretically correct *weighted mixture* of processes\n",
    "   - rare signal hardly contributes to the loss function at all! \n",
    "      - classifying $\\approx$ all events as background would give $\\approx$ 100% accuracy\n",
    "- 3. **use $w_{final}$: but give signal events a final constant weight such that** $$\\sum w^b_i = \\sum w^s_i$$"
   ]
  },
  {
   "cell_type": "code",
   "execution_count": 8,
   "metadata": {
    "slideshow": {
     "slide_type": "slide"
    }
   },
   "outputs": [
    {
     "name": "stdout",
     "output_type": "stream",
     "text": [
      "465.42660577205487\n",
      "275337.2613916108\n"
     ]
    }
   ],
   "source": [
    "df_train = pd.DataFrame()\n",
    "df_train[\"label\"] = y_train\n",
    "df_train[\"weights\"] = weights_train\n",
    "\n",
    "sigSumWeights = np.sum(df_train[df_train[\"label\"]==1][\"weights\"])\n",
    "bkgSumWeights = np.sum(df_train[df_train[\"label\"]==0][\"weights\"])\n",
    "\n",
    "print(sigSumWeights)\n",
    "\n",
    "scale = (bkgSumWeights/sigSumWeights)\n",
    "df_train.loc[df_train.label==1, \"weights\"] *= scale\n",
    "\n",
    "modsigSumWeights = np.sum(df_train[df_train[\"label\"]==1][\"weights\"])\n",
    "\n",
    "print(modsigSumWeights)\n",
    "\n",
    "\n",
    "final_weights_train = df_train[\"weights\"]"
   ]
  },
  {
   "cell_type": "markdown",
   "metadata": {
    "slideshow": {
     "slide_type": "slide"
    }
   },
   "source": [
    "# Define network 'architecture'\n",
    "\n",
    "- How many neurons, how many layers?\n",
    "- What activation function? What loss function?"
   ]
  },
  {
   "cell_type": "code",
   "execution_count": 9,
   "metadata": {
    "slideshow": {
     "slide_type": "slide"
    }
   },
   "outputs": [
    {
     "name": "stderr",
     "output_type": "stream",
     "text": [
      "2022-09-17 17:07:28.510425: I tensorflow/stream_executor/cuda/cuda_gpu_executor.cc:980] successful NUMA node read from SysFS had negative value (-1), but there must be at least one NUMA node, so returning NUMA node zero\n",
      "2022-09-17 17:07:28.521575: I tensorflow/stream_executor/cuda/cuda_gpu_executor.cc:980] successful NUMA node read from SysFS had negative value (-1), but there must be at least one NUMA node, so returning NUMA node zero\n",
      "2022-09-17 17:07:28.521957: I tensorflow/stream_executor/cuda/cuda_gpu_executor.cc:980] successful NUMA node read from SysFS had negative value (-1), but there must be at least one NUMA node, so returning NUMA node zero\n",
      "2022-09-17 17:07:28.525228: I tensorflow/core/platform/cpu_feature_guard.cc:193] This TensorFlow binary is optimized with oneAPI Deep Neural Network Library (oneDNN) to use the following CPU instructions in performance-critical operations:  AVX2 FMA\n",
      "To enable them in other operations, rebuild TensorFlow with the appropriate compiler flags.\n",
      "2022-09-17 17:07:28.526344: I tensorflow/stream_executor/cuda/cuda_gpu_executor.cc:980] successful NUMA node read from SysFS had negative value (-1), but there must be at least one NUMA node, so returning NUMA node zero\n",
      "2022-09-17 17:07:28.526780: I tensorflow/stream_executor/cuda/cuda_gpu_executor.cc:980] successful NUMA node read from SysFS had negative value (-1), but there must be at least one NUMA node, so returning NUMA node zero\n",
      "2022-09-17 17:07:28.527086: I tensorflow/stream_executor/cuda/cuda_gpu_executor.cc:980] successful NUMA node read from SysFS had negative value (-1), but there must be at least one NUMA node, so returning NUMA node zero\n",
      "2022-09-17 17:07:29.775892: I tensorflow/stream_executor/cuda/cuda_gpu_executor.cc:980] successful NUMA node read from SysFS had negative value (-1), but there must be at least one NUMA node, so returning NUMA node zero\n",
      "2022-09-17 17:07:29.776992: I tensorflow/stream_executor/cuda/cuda_gpu_executor.cc:980] successful NUMA node read from SysFS had negative value (-1), but there must be at least one NUMA node, so returning NUMA node zero\n",
      "2022-09-17 17:07:29.777151: I tensorflow/stream_executor/cuda/cuda_gpu_executor.cc:980] successful NUMA node read from SysFS had negative value (-1), but there must be at least one NUMA node, so returning NUMA node zero\n",
      "2022-09-17 17:07:29.777980: I tensorflow/core/common_runtime/gpu/gpu_device.cc:1616] Created device /job:localhost/replica:0/task:0/device:GPU:0 with 21 MB memory:  -> device: 0, name: NVIDIA GeForce GTX 1050 Ti with Max-Q Design, pci bus id: 0000:01:00.0, compute capability: 6.1\n",
      "2022-09-17 17:08:10.276324: W tensorflow/core/framework/cpu_allocator_impl.cc:82] Allocation of 40200000 exceeds 10% of free system memory.\n",
      "2022-09-17 17:08:20.297812: W tensorflow/core/common_runtime/bfc_allocator.cc:479] Allocator (GPU_0_bfc) ran out of memory trying to allocate 38.34MiB (rounded to 40200192)requested by op _EagerConst\n",
      "If the cause is memory fragmentation maybe the environment variable 'TF_GPU_ALLOCATOR=cuda_malloc_async' will improve the situation. \n",
      "Current allocation summary follows.\n",
      "Current allocation summary follows.\n",
      "2022-09-17 17:08:20.297883: I tensorflow/core/common_runtime/bfc_allocator.cc:1033] BFCAllocator dump for GPU_0_bfc\n",
      "2022-09-17 17:08:20.297917: I tensorflow/core/common_runtime/bfc_allocator.cc:1040] Bin (256): \tTotal Chunks: 16, Chunks in use: 16. 4.0KiB allocated for chunks. 4.0KiB in use in bin. 244B client-requested in use in bin.\n",
      "2022-09-17 17:08:20.297940: I tensorflow/core/common_runtime/bfc_allocator.cc:1040] Bin (512): \tTotal Chunks: 1, Chunks in use: 0. 512B allocated for chunks. 0B in use in bin. 0B client-requested in use in bin.\n",
      "2022-09-17 17:08:20.297964: I tensorflow/core/common_runtime/bfc_allocator.cc:1040] Bin (1024): \tTotal Chunks: 2, Chunks in use: 2. 2.2KiB allocated for chunks. 2.2KiB in use in bin. 1.9KiB client-requested in use in bin.\n",
      "2022-09-17 17:08:20.297986: I tensorflow/core/common_runtime/bfc_allocator.cc:1040] Bin (2048): \tTotal Chunks: 1, Chunks in use: 1. 2.0KiB allocated for chunks. 2.0KiB in use in bin. 1.8KiB client-requested in use in bin.\n",
      "2022-09-17 17:08:20.298007: I tensorflow/core/common_runtime/bfc_allocator.cc:1040] Bin (4096): \tTotal Chunks: 0, Chunks in use: 0. 0B allocated for chunks. 0B in use in bin. 0B client-requested in use in bin.\n",
      "2022-09-17 17:08:20.298028: I tensorflow/core/common_runtime/bfc_allocator.cc:1040] Bin (8192): \tTotal Chunks: 0, Chunks in use: 0. 0B allocated for chunks. 0B in use in bin. 0B client-requested in use in bin.\n",
      "2022-09-17 17:08:20.298048: I tensorflow/core/common_runtime/bfc_allocator.cc:1040] Bin (16384): \tTotal Chunks: 0, Chunks in use: 0. 0B allocated for chunks. 0B in use in bin. 0B client-requested in use in bin.\n",
      "2022-09-17 17:08:20.298068: I tensorflow/core/common_runtime/bfc_allocator.cc:1040] Bin (32768): \tTotal Chunks: 0, Chunks in use: 0. 0B allocated for chunks. 0B in use in bin. 0B client-requested in use in bin.\n",
      "2022-09-17 17:08:20.298088: I tensorflow/core/common_runtime/bfc_allocator.cc:1040] Bin (65536): \tTotal Chunks: 0, Chunks in use: 0. 0B allocated for chunks. 0B in use in bin. 0B client-requested in use in bin.\n",
      "2022-09-17 17:08:20.298108: I tensorflow/core/common_runtime/bfc_allocator.cc:1040] Bin (131072): \tTotal Chunks: 0, Chunks in use: 0. 0B allocated for chunks. 0B in use in bin. 0B client-requested in use in bin.\n",
      "2022-09-17 17:08:20.298127: I tensorflow/core/common_runtime/bfc_allocator.cc:1040] Bin (262144): \tTotal Chunks: 0, Chunks in use: 0. 0B allocated for chunks. 0B in use in bin. 0B client-requested in use in bin.\n",
      "2022-09-17 17:08:20.298173: I tensorflow/core/common_runtime/bfc_allocator.cc:1040] Bin (524288): \tTotal Chunks: 1, Chunks in use: 1. 654.5KiB allocated for chunks. 654.5KiB in use in bin. 654.3KiB client-requested in use in bin.\n",
      "2022-09-17 17:08:20.298197: I tensorflow/core/common_runtime/bfc_allocator.cc:1040] Bin (1048576): \tTotal Chunks: 1, Chunks in use: 1. 1.28MiB allocated for chunks. 1.28MiB in use in bin. 1.28MiB client-requested in use in bin.\n",
      "2022-09-17 17:08:20.298219: I tensorflow/core/common_runtime/bfc_allocator.cc:1040] Bin (2097152): \tTotal Chunks: 0, Chunks in use: 0. 0B allocated for chunks. 0B in use in bin. 0B client-requested in use in bin.\n",
      "2022-09-17 17:08:20.298240: I tensorflow/core/common_runtime/bfc_allocator.cc:1040] Bin (4194304): \tTotal Chunks: 0, Chunks in use: 0. 0B allocated for chunks. 0B in use in bin. 0B client-requested in use in bin.\n",
      "2022-09-17 17:08:20.298260: I tensorflow/core/common_runtime/bfc_allocator.cc:1040] Bin (8388608): \tTotal Chunks: 0, Chunks in use: 0. 0B allocated for chunks. 0B in use in bin. 0B client-requested in use in bin.\n",
      "2022-09-17 17:08:20.298283: I tensorflow/core/common_runtime/bfc_allocator.cc:1040] Bin (16777216): \tTotal Chunks: 1, Chunks in use: 0. 19.39MiB allocated for chunks. 0B in use in bin. 0B client-requested in use in bin.\n",
      "2022-09-17 17:08:20.298311: I tensorflow/core/common_runtime/bfc_allocator.cc:1040] Bin (33554432): \tTotal Chunks: 0, Chunks in use: 0. 0B allocated for chunks. 0B in use in bin. 0B client-requested in use in bin.\n",
      "2022-09-17 17:08:20.298332: I tensorflow/core/common_runtime/bfc_allocator.cc:1040] Bin (67108864): \tTotal Chunks: 0, Chunks in use: 0. 0B allocated for chunks. 0B in use in bin. 0B client-requested in use in bin.\n",
      "2022-09-17 17:08:20.298353: I tensorflow/core/common_runtime/bfc_allocator.cc:1040] Bin (134217728): \tTotal Chunks: 0, Chunks in use: 0. 0B allocated for chunks. 0B in use in bin. 0B client-requested in use in bin.\n",
      "2022-09-17 17:08:20.298373: I tensorflow/core/common_runtime/bfc_allocator.cc:1040] Bin (268435456): \tTotal Chunks: 0, Chunks in use: 0. 0B allocated for chunks. 0B in use in bin. 0B client-requested in use in bin.\n",
      "2022-09-17 17:08:20.298397: I tensorflow/core/common_runtime/bfc_allocator.cc:1056] Bin for 38.34MiB was 32.00MiB, Chunk State: \n",
      "2022-09-17 17:08:20.298416: I tensorflow/core/common_runtime/bfc_allocator.cc:1069] Next region of size 22347776\n",
      "2022-09-17 17:08:20.298443: I tensorflow/core/common_runtime/bfc_allocator.cc:1089] InUse at 7f671a000000 of size 256 next 1\n",
      "2022-09-17 17:08:20.298464: I tensorflow/core/common_runtime/bfc_allocator.cc:1089] InUse at 7f671a000100 of size 1280 next 2\n",
      "2022-09-17 17:08:20.298483: I tensorflow/core/common_runtime/bfc_allocator.cc:1089] InUse at 7f671a000600 of size 256 next 3\n",
      "2022-09-17 17:08:20.298502: I tensorflow/core/common_runtime/bfc_allocator.cc:1089] InUse at 7f671a000700 of size 256 next 4\n",
      "2022-09-17 17:08:20.298520: I tensorflow/core/common_runtime/bfc_allocator.cc:1089] InUse at 7f671a000800 of size 256 next 6\n",
      "2022-09-17 17:08:20.298538: I tensorflow/core/common_runtime/bfc_allocator.cc:1089] InUse at 7f671a000900 of size 256 next 7\n",
      "2022-09-17 17:08:20.298557: I tensorflow/core/common_runtime/bfc_allocator.cc:1089] InUse at 7f671a000a00 of size 256 next 5\n",
      "2022-09-17 17:08:20.298575: I tensorflow/core/common_runtime/bfc_allocator.cc:1089] InUse at 7f671a000b00 of size 256 next 8\n",
      "2022-09-17 17:08:20.298593: I tensorflow/core/common_runtime/bfc_allocator.cc:1089] InUse at 7f671a000c00 of size 256 next 12\n",
      "2022-09-17 17:08:20.298611: I tensorflow/core/common_runtime/bfc_allocator.cc:1089] InUse at 7f671a000d00 of size 256 next 13\n",
      "2022-09-17 17:08:20.298630: I tensorflow/core/common_runtime/bfc_allocator.cc:1089] InUse at 7f671a000e00 of size 256 next 11\n",
      "2022-09-17 17:08:20.298648: I tensorflow/core/common_runtime/bfc_allocator.cc:1089] InUse at 7f671a000f00 of size 256 next 16\n",
      "2022-09-17 17:08:20.298667: I tensorflow/core/common_runtime/bfc_allocator.cc:1089] InUse at 7f671a001000 of size 256 next 14\n",
      "2022-09-17 17:08:20.298685: I tensorflow/core/common_runtime/bfc_allocator.cc:1089] InUse at 7f671a001100 of size 256 next 17\n",
      "2022-09-17 17:08:20.298704: I tensorflow/core/common_runtime/bfc_allocator.cc:1089] InUse at 7f671a001200 of size 256 next 18\n",
      "2022-09-17 17:08:20.298722: I tensorflow/core/common_runtime/bfc_allocator.cc:1089] InUse at 7f671a001300 of size 256 next 19\n",
      "2022-09-17 17:08:20.298740: I tensorflow/core/common_runtime/bfc_allocator.cc:1089] InUse at 7f671a001400 of size 256 next 22\n",
      "2022-09-17 17:08:20.298759: I tensorflow/core/common_runtime/bfc_allocator.cc:1089] Free  at 7f671a001500 of size 512 next 15\n",
      "2022-09-17 17:08:20.298778: I tensorflow/core/common_runtime/bfc_allocator.cc:1089] InUse at 7f671a001700 of size 1024 next 9\n",
      "2022-09-17 17:08:20.298800: I tensorflow/core/common_runtime/bfc_allocator.cc:1089] InUse at 7f671a001b00 of size 2048 next 10\n",
      "2022-09-17 17:08:20.298819: I tensorflow/core/common_runtime/bfc_allocator.cc:1089] InUse at 7f671a002300 of size 1340160 next 20\n",
      "2022-09-17 17:08:20.298838: I tensorflow/core/common_runtime/bfc_allocator.cc:1089] InUse at 7f671a149600 of size 670208 next 21\n",
      "2022-09-17 17:08:20.298859: I tensorflow/core/common_runtime/bfc_allocator.cc:1089] Free  at 7f671a1ed000 of size 20328448 next 18446744073709551615\n",
      "2022-09-17 17:08:20.298880: I tensorflow/core/common_runtime/bfc_allocator.cc:1094]      Summary of in-use Chunks by size: \n",
      "2022-09-17 17:08:20.298904: I tensorflow/core/common_runtime/bfc_allocator.cc:1097] 16 Chunks of size 256 totalling 4.0KiB\n",
      "2022-09-17 17:08:20.298924: I tensorflow/core/common_runtime/bfc_allocator.cc:1097] 1 Chunks of size 1024 totalling 1.0KiB\n",
      "2022-09-17 17:08:20.298944: I tensorflow/core/common_runtime/bfc_allocator.cc:1097] 1 Chunks of size 1280 totalling 1.2KiB\n",
      "2022-09-17 17:08:20.298962: I tensorflow/core/common_runtime/bfc_allocator.cc:1097] 1 Chunks of size 2048 totalling 2.0KiB\n",
      "2022-09-17 17:08:20.298982: I tensorflow/core/common_runtime/bfc_allocator.cc:1097] 1 Chunks of size 670208 totalling 654.5KiB\n",
      "2022-09-17 17:08:20.299001: I tensorflow/core/common_runtime/bfc_allocator.cc:1097] 1 Chunks of size 1340160 totalling 1.28MiB\n",
      "2022-09-17 17:08:20.299020: I tensorflow/core/common_runtime/bfc_allocator.cc:1101] Sum Total of in-use chunks: 1.92MiB\n",
      "2022-09-17 17:08:20.299038: I tensorflow/core/common_runtime/bfc_allocator.cc:1103] total_region_allocated_bytes_: 22347776 memory_limit_: 22347776 available bytes: 0 curr_region_allocation_bytes_: 44695552\n",
      "2022-09-17 17:08:20.299066: I tensorflow/core/common_runtime/bfc_allocator.cc:1109] Stats: \n",
      "Limit:                        22347776\n",
      "InUse:                         2018816\n",
      "MaxInUse:                      2019072\n",
      "NumAllocs:                      167537\n",
      "MaxAllocSize:                  1340160\n",
      "Reserved:                            0\n",
      "PeakReserved:                        0\n",
      "LargestFreeBlock:                    0\n",
      "\n",
      "2022-09-17 17:08:20.299090: W tensorflow/core/common_runtime/bfc_allocator.cc:491] **********__________________________________________________________________________________________\n"
     ]
    },
    {
     "name": "stdout",
     "output_type": "stream",
     "text": [
      "Unexpected exception formatting exception. Falling back to standard exception\n"
     ]
    },
    {
     "name": "stderr",
     "output_type": "stream",
     "text": [
      "Traceback (most recent call last):\n",
      "  File \"/home/mkidson/.local/lib/python3.10/site-packages/IPython/core/interactiveshell.py\", line 3398, in run_code\n",
      "    exec(code_obj, self.user_global_ns, self.user_ns)\n",
      "  File \"/tmp/ipykernel_14214/4117420712.py\", line 6, in <cell line: 6>\n",
      "    model.fit(X_train, y_train, sample_weight=final_weights_train, epochs=8, batch_size=100, verbose=1)\n",
      "  File \"/home/mkidson/.local/lib/python3.10/site-packages/keras/utils/traceback_utils.py\", line 70, in error_handler\n",
      "  File \"/home/mkidson/.local/lib/python3.10/site-packages/tensorflow/python/framework/constant_op.py\", line 102, in convert_to_eager_tensor\n",
      "    return ops.EagerTensor(value, ctx.device_name, dtype)\n",
      "tensorflow.python.framework.errors_impl.InternalError: Failed copying input tensor from /job:localhost/replica:0/task:0/device:CPU:0 to /job:localhost/replica:0/task:0/device:GPU:0 in order to run _EagerConst: Dst tensor is not initialized.\n",
      "\n",
      "During handling of the above exception, another exception occurred:\n",
      "\n",
      "Traceback (most recent call last):\n",
      "  File \"/home/mkidson/.local/lib/python3.10/site-packages/IPython/core/interactiveshell.py\", line 1993, in showtraceback\n",
      "    stb = self.InteractiveTB.structured_traceback(\n",
      "  File \"/home/mkidson/.local/lib/python3.10/site-packages/IPython/core/ultratb.py\", line 1118, in structured_traceback\n",
      "    return FormattedTB.structured_traceback(\n",
      "  File \"/home/mkidson/.local/lib/python3.10/site-packages/IPython/core/ultratb.py\", line 1012, in structured_traceback\n",
      "    return VerboseTB.structured_traceback(\n",
      "  File \"/home/mkidson/.local/lib/python3.10/site-packages/IPython/core/ultratb.py\", line 865, in structured_traceback\n",
      "    formatted_exception = self.format_exception_as_a_whole(etype, evalue, etb, number_of_lines_of_context,\n",
      "  File \"/home/mkidson/.local/lib/python3.10/site-packages/IPython/core/ultratb.py\", line 818, in format_exception_as_a_whole\n",
      "    frames.append(self.format_record(r))\n",
      "  File \"/home/mkidson/.local/lib/python3.10/site-packages/IPython/core/ultratb.py\", line 736, in format_record\n",
      "    result += ''.join(_format_traceback_lines(frame_info.lines, Colors, self.has_colors, lvals))\n",
      "  File \"/home/mkidson/.local/lib/python3.10/site-packages/stack_data/utils.py\", line 145, in cached_property_wrapper\n",
      "    value = obj.__dict__[self.func.__name__] = self.func(obj)\n",
      "  File \"/home/mkidson/.local/lib/python3.10/site-packages/stack_data/core.py\", line 699, in lines\n",
      "    pieces = self.included_pieces\n",
      "  File \"/home/mkidson/.local/lib/python3.10/site-packages/stack_data/utils.py\", line 145, in cached_property_wrapper\n",
      "    value = obj.__dict__[self.func.__name__] = self.func(obj)\n",
      "  File \"/home/mkidson/.local/lib/python3.10/site-packages/stack_data/core.py\", line 647, in included_pieces\n",
      "    pos = scope_pieces.index(self.executing_piece)\n",
      "  File \"/home/mkidson/.local/lib/python3.10/site-packages/stack_data/utils.py\", line 145, in cached_property_wrapper\n",
      "    value = obj.__dict__[self.func.__name__] = self.func(obj)\n",
      "  File \"/home/mkidson/.local/lib/python3.10/site-packages/stack_data/core.py\", line 626, in executing_piece\n",
      "    return only(\n",
      "  File \"/home/mkidson/.local/lib/python3.10/site-packages/executing/executing.py\", line 164, in only\n",
      "    raise NotOneValueFound('Expected one value, found 0')\n",
      "executing.executing.NotOneValueFound: Expected one value, found 0\n"
     ]
    }
   ],
   "source": [
    "model = Sequential()\n",
    "model.add(Dense(15, input_dim=30, activation='relu', kernel_regularizer=None))\n",
    "model.add(Dense(15, activation='relu', kernel_regularizer=None))\n",
    "model.add(Dense(1, activation='sigmoid'))\n",
    "model.compile(loss='binary_crossentropy', optimizer='adam')   \n",
    "model.fit(X_train, y_train, sample_weight=final_weights_train, epochs=8, batch_size=100, verbose=1)"
   ]
  },
  {
   "cell_type": "code",
   "execution_count": 7,
   "metadata": {},
   "outputs": [
    {
     "name": "stderr",
     "output_type": "stream",
     "text": [
      "2022-09-17 13:21:27.466066: W tensorflow/core/common_runtime/bfc_allocator.cc:479] Allocator (GPU_0_bfc) ran out of memory trying to allocate 7.5KiB (rounded to 7680)requested by op SameWorkerRecvDone\n",
      "If the cause is memory fragmentation maybe the environment variable 'TF_GPU_ALLOCATOR=cuda_malloc_async' will improve the situation. \n",
      "Current allocation summary follows.\n",
      "Current allocation summary follows.\n",
      "2022-09-17 13:21:27.466151: I tensorflow/core/common_runtime/bfc_allocator.cc:1033] BFCAllocator dump for GPU_0_bfc\n",
      "2022-09-17 13:21:27.466185: I tensorflow/core/common_runtime/bfc_allocator.cc:1040] Bin (256): \tTotal Chunks: 39, Chunks in use: 39. 9.8KiB allocated for chunks. 9.8KiB in use in bin. 700B client-requested in use in bin.\n",
      "2022-09-17 13:21:27.466211: I tensorflow/core/common_runtime/bfc_allocator.cc:1040] Bin (512): \tTotal Chunks: 2, Chunks in use: 2. 1.0KiB allocated for chunks. 1.0KiB in use in bin. 800B client-requested in use in bin.\n",
      "2022-09-17 13:21:27.466234: I tensorflow/core/common_runtime/bfc_allocator.cc:1040] Bin (1024): \tTotal Chunks: 5, Chunks in use: 4. 6.0KiB allocated for chunks. 4.2KiB in use in bin. 3.6KiB client-requested in use in bin.\n",
      "2022-09-17 13:21:27.466256: I tensorflow/core/common_runtime/bfc_allocator.cc:1040] Bin (2048): \tTotal Chunks: 3, Chunks in use: 3. 6.0KiB allocated for chunks. 6.0KiB in use in bin. 5.3KiB client-requested in use in bin.\n",
      "2022-09-17 13:21:27.466277: I tensorflow/core/common_runtime/bfc_allocator.cc:1040] Bin (4096): \tTotal Chunks: 0, Chunks in use: 0. 0B allocated for chunks. 0B in use in bin. 0B client-requested in use in bin.\n",
      "2022-09-17 13:21:27.466297: I tensorflow/core/common_runtime/bfc_allocator.cc:1040] Bin (8192): \tTotal Chunks: 0, Chunks in use: 0. 0B allocated for chunks. 0B in use in bin. 0B client-requested in use in bin.\n",
      "2022-09-17 13:21:27.466317: I tensorflow/core/common_runtime/bfc_allocator.cc:1040] Bin (16384): \tTotal Chunks: 0, Chunks in use: 0. 0B allocated for chunks. 0B in use in bin. 0B client-requested in use in bin.\n",
      "2022-09-17 13:21:27.466336: I tensorflow/core/common_runtime/bfc_allocator.cc:1040] Bin (32768): \tTotal Chunks: 0, Chunks in use: 0. 0B allocated for chunks. 0B in use in bin. 0B client-requested in use in bin.\n",
      "2022-09-17 13:21:27.466357: I tensorflow/core/common_runtime/bfc_allocator.cc:1040] Bin (65536): \tTotal Chunks: 0, Chunks in use: 0. 0B allocated for chunks. 0B in use in bin. 0B client-requested in use in bin.\n",
      "2022-09-17 13:21:27.466377: I tensorflow/core/common_runtime/bfc_allocator.cc:1040] Bin (131072): \tTotal Chunks: 0, Chunks in use: 0. 0B allocated for chunks. 0B in use in bin. 0B client-requested in use in bin.\n",
      "2022-09-17 13:21:27.466396: I tensorflow/core/common_runtime/bfc_allocator.cc:1040] Bin (262144): \tTotal Chunks: 0, Chunks in use: 0. 0B allocated for chunks. 0B in use in bin. 0B client-requested in use in bin.\n",
      "2022-09-17 13:21:27.466423: I tensorflow/core/common_runtime/bfc_allocator.cc:1040] Bin (524288): \tTotal Chunks: 1, Chunks in use: 1. 654.5KiB allocated for chunks. 654.5KiB in use in bin. 654.3KiB client-requested in use in bin.\n",
      "2022-09-17 13:21:27.466447: I tensorflow/core/common_runtime/bfc_allocator.cc:1040] Bin (1048576): \tTotal Chunks: 1, Chunks in use: 1. 1.28MiB allocated for chunks. 1.28MiB in use in bin. 1.28MiB client-requested in use in bin.\n",
      "2022-09-17 13:21:27.466470: I tensorflow/core/common_runtime/bfc_allocator.cc:1040] Bin (2097152): \tTotal Chunks: 0, Chunks in use: 0. 0B allocated for chunks. 0B in use in bin. 0B client-requested in use in bin.\n",
      "2022-09-17 13:21:27.466490: I tensorflow/core/common_runtime/bfc_allocator.cc:1040] Bin (4194304): \tTotal Chunks: 0, Chunks in use: 0. 0B allocated for chunks. 0B in use in bin. 0B client-requested in use in bin.\n",
      "2022-09-17 13:21:27.466511: I tensorflow/core/common_runtime/bfc_allocator.cc:1040] Bin (8388608): \tTotal Chunks: 0, Chunks in use: 0. 0B allocated for chunks. 0B in use in bin. 0B client-requested in use in bin.\n",
      "2022-09-17 13:21:27.466536: I tensorflow/core/common_runtime/bfc_allocator.cc:1040] Bin (16777216): \tTotal Chunks: 0, Chunks in use: 0. 0B allocated for chunks. 0B in use in bin. 0B client-requested in use in bin.\n",
      "2022-09-17 13:21:27.466563: I tensorflow/core/common_runtime/bfc_allocator.cc:1040] Bin (33554432): \tTotal Chunks: 2, Chunks in use: 2. 95.37MiB allocated for chunks. 95.37MiB in use in bin. 76.67MiB client-requested in use in bin.\n",
      "2022-09-17 13:21:27.466587: I tensorflow/core/common_runtime/bfc_allocator.cc:1040] Bin (67108864): \tTotal Chunks: 0, Chunks in use: 0. 0B allocated for chunks. 0B in use in bin. 0B client-requested in use in bin.\n",
      "2022-09-17 13:21:27.466629: I tensorflow/core/common_runtime/bfc_allocator.cc:1040] Bin (134217728): \tTotal Chunks: 0, Chunks in use: 0. 0B allocated for chunks. 0B in use in bin. 0B client-requested in use in bin.\n",
      "2022-09-17 13:21:27.466656: I tensorflow/core/common_runtime/bfc_allocator.cc:1040] Bin (268435456): \tTotal Chunks: 0, Chunks in use: 0. 0B allocated for chunks. 0B in use in bin. 0B client-requested in use in bin.\n",
      "2022-09-17 13:21:27.466683: I tensorflow/core/common_runtime/bfc_allocator.cc:1056] Bin for 7.5KiB was 4.0KiB, Chunk State: \n",
      "2022-09-17 13:21:27.466705: I tensorflow/core/common_runtime/bfc_allocator.cc:1069] Next region of size 102039552\n",
      "2022-09-17 13:21:27.466739: I tensorflow/core/common_runtime/bfc_allocator.cc:1089] InUse at 7f3cdc000000 of size 256 next 1\n",
      "2022-09-17 13:21:27.466763: I tensorflow/core/common_runtime/bfc_allocator.cc:1089] InUse at 7f3cdc000100 of size 1280 next 2\n",
      "2022-09-17 13:21:27.466786: I tensorflow/core/common_runtime/bfc_allocator.cc:1089] InUse at 7f3cdc000600 of size 256 next 3\n",
      "2022-09-17 13:21:27.466811: I tensorflow/core/common_runtime/bfc_allocator.cc:1089] InUse at 7f3cdc000700 of size 256 next 4\n",
      "2022-09-17 13:21:27.466833: I tensorflow/core/common_runtime/bfc_allocator.cc:1089] InUse at 7f3cdc000800 of size 256 next 6\n",
      "2022-09-17 13:21:27.466853: I tensorflow/core/common_runtime/bfc_allocator.cc:1089] InUse at 7f3cdc000900 of size 256 next 7\n",
      "2022-09-17 13:21:27.466874: I tensorflow/core/common_runtime/bfc_allocator.cc:1089] InUse at 7f3cdc000a00 of size 256 next 5\n",
      "2022-09-17 13:21:27.466896: I tensorflow/core/common_runtime/bfc_allocator.cc:1089] InUse at 7f3cdc000b00 of size 256 next 8\n",
      "2022-09-17 13:21:27.466917: I tensorflow/core/common_runtime/bfc_allocator.cc:1089] InUse at 7f3cdc000c00 of size 256 next 12\n",
      "2022-09-17 13:21:27.466939: I tensorflow/core/common_runtime/bfc_allocator.cc:1089] InUse at 7f3cdc000d00 of size 256 next 13\n",
      "2022-09-17 13:21:27.466961: I tensorflow/core/common_runtime/bfc_allocator.cc:1089] InUse at 7f3cdc000e00 of size 256 next 11\n",
      "2022-09-17 13:21:27.466985: I tensorflow/core/common_runtime/bfc_allocator.cc:1089] InUse at 7f3cdc000f00 of size 256 next 16\n",
      "2022-09-17 13:21:27.467006: I tensorflow/core/common_runtime/bfc_allocator.cc:1089] InUse at 7f3cdc001000 of size 256 next 14\n",
      "2022-09-17 13:21:27.467028: I tensorflow/core/common_runtime/bfc_allocator.cc:1089] InUse at 7f3cdc001100 of size 256 next 17\n",
      "2022-09-17 13:21:27.467049: I tensorflow/core/common_runtime/bfc_allocator.cc:1089] InUse at 7f3cdc001200 of size 256 next 18\n",
      "2022-09-17 13:21:27.467070: I tensorflow/core/common_runtime/bfc_allocator.cc:1089] InUse at 7f3cdc001300 of size 256 next 19\n",
      "2022-09-17 13:21:27.467090: I tensorflow/core/common_runtime/bfc_allocator.cc:1089] InUse at 7f3cdc001400 of size 256 next 22\n",
      "2022-09-17 13:21:27.467108: I tensorflow/core/common_runtime/bfc_allocator.cc:1089] InUse at 7f3cdc001500 of size 256 next 24\n",
      "2022-09-17 13:21:27.467126: I tensorflow/core/common_runtime/bfc_allocator.cc:1089] InUse at 7f3cdc001600 of size 256 next 15\n",
      "2022-09-17 13:21:27.467145: I tensorflow/core/common_runtime/bfc_allocator.cc:1089] InUse at 7f3cdc001700 of size 1024 next 9\n",
      "2022-09-17 13:21:27.467164: I tensorflow/core/common_runtime/bfc_allocator.cc:1089] InUse at 7f3cdc001b00 of size 2048 next 10\n",
      "2022-09-17 13:21:27.467183: I tensorflow/core/common_runtime/bfc_allocator.cc:1089] InUse at 7f3cdc002300 of size 1340160 next 20\n",
      "2022-09-17 13:21:27.467202: I tensorflow/core/common_runtime/bfc_allocator.cc:1089] InUse at 7f3cdc149600 of size 670208 next 21\n",
      "2022-09-17 13:21:27.467221: I tensorflow/core/common_runtime/bfc_allocator.cc:1089] InUse at 7f3cdc1ed000 of size 40200192 next 23\n",
      "2022-09-17 13:21:27.467240: I tensorflow/core/common_runtime/bfc_allocator.cc:1089] InUse at 7f3cde843800 of size 256 next 25\n",
      "2022-09-17 13:21:27.467257: I tensorflow/core/common_runtime/bfc_allocator.cc:1089] InUse at 7f3cde843900 of size 256 next 26\n",
      "2022-09-17 13:21:27.467275: I tensorflow/core/common_runtime/bfc_allocator.cc:1089] InUse at 7f3cde843a00 of size 256 next 27\n",
      "2022-09-17 13:21:27.467293: I tensorflow/core/common_runtime/bfc_allocator.cc:1089] InUse at 7f3cde843b00 of size 256 next 28\n",
      "2022-09-17 13:21:27.467311: I tensorflow/core/common_runtime/bfc_allocator.cc:1089] InUse at 7f3cde843c00 of size 256 next 29\n",
      "2022-09-17 13:21:27.467329: I tensorflow/core/common_runtime/bfc_allocator.cc:1089] InUse at 7f3cde843d00 of size 2048 next 30\n",
      "2022-09-17 13:21:27.467347: I tensorflow/core/common_runtime/bfc_allocator.cc:1089] InUse at 7f3cde844500 of size 256 next 31\n",
      "2022-09-17 13:21:27.467365: I tensorflow/core/common_runtime/bfc_allocator.cc:1089] InUse at 7f3cde844600 of size 1024 next 32\n",
      "2022-09-17 13:21:27.467383: I tensorflow/core/common_runtime/bfc_allocator.cc:1089] InUse at 7f3cde844a00 of size 256 next 33\n",
      "2022-09-17 13:21:27.467421: I tensorflow/core/common_runtime/bfc_allocator.cc:1089] InUse at 7f3cde844b00 of size 256 next 34\n",
      "2022-09-17 13:21:27.467441: I tensorflow/core/common_runtime/bfc_allocator.cc:1089] InUse at 7f3cde844c00 of size 256 next 35\n",
      "2022-09-17 13:21:27.467460: I tensorflow/core/common_runtime/bfc_allocator.cc:1089] InUse at 7f3cde844d00 of size 2048 next 36\n",
      "2022-09-17 13:21:27.467479: I tensorflow/core/common_runtime/bfc_allocator.cc:1089] InUse at 7f3cde845500 of size 256 next 37\n",
      "2022-09-17 13:21:27.467497: I tensorflow/core/common_runtime/bfc_allocator.cc:1089] InUse at 7f3cde845600 of size 1024 next 38\n",
      "2022-09-17 13:21:27.467514: I tensorflow/core/common_runtime/bfc_allocator.cc:1089] InUse at 7f3cde845a00 of size 256 next 39\n",
      "2022-09-17 13:21:27.467532: I tensorflow/core/common_runtime/bfc_allocator.cc:1089] InUse at 7f3cde845b00 of size 256 next 40\n",
      "2022-09-17 13:21:27.467550: I tensorflow/core/common_runtime/bfc_allocator.cc:1089] InUse at 7f3cde845c00 of size 256 next 41\n",
      "2022-09-17 13:21:27.467568: I tensorflow/core/common_runtime/bfc_allocator.cc:1089] InUse at 7f3cde845d00 of size 256 next 42\n",
      "2022-09-17 13:21:27.467586: I tensorflow/core/common_runtime/bfc_allocator.cc:1089] InUse at 7f3cde845e00 of size 256 next 43\n",
      "2022-09-17 13:21:27.467604: I tensorflow/core/common_runtime/bfc_allocator.cc:1089] InUse at 7f3cde845f00 of size 256 next 44\n",
      "2022-09-17 13:21:27.467622: I tensorflow/core/common_runtime/bfc_allocator.cc:1089] InUse at 7f3cde846000 of size 512 next 45\n",
      "2022-09-17 13:21:27.467644: I tensorflow/core/common_runtime/bfc_allocator.cc:1089] InUse at 7f3cde846200 of size 512 next 46\n",
      "2022-09-17 13:21:27.467662: I tensorflow/core/common_runtime/bfc_allocator.cc:1089] InUse at 7f3cde846400 of size 256 next 47\n",
      "2022-09-17 13:21:27.467681: I tensorflow/core/common_runtime/bfc_allocator.cc:1089] InUse at 7f3cde846500 of size 256 next 48\n",
      "2022-09-17 13:21:27.467700: I tensorflow/core/common_runtime/bfc_allocator.cc:1089] InUse at 7f3cde846600 of size 256 next 49\n",
      "2022-09-17 13:21:27.467717: I tensorflow/core/common_runtime/bfc_allocator.cc:1089] InUse at 7f3cde846700 of size 256 next 59\n",
      "2022-09-17 13:21:27.467736: I tensorflow/core/common_runtime/bfc_allocator.cc:1089] Free  at 7f3cde846800 of size 1792 next 50\n",
      "2022-09-17 13:21:27.467754: I tensorflow/core/common_runtime/bfc_allocator.cc:1089] InUse at 7f3cde846f00 of size 256 next 61\n",
      "2022-09-17 13:21:27.467773: I tensorflow/core/common_runtime/bfc_allocator.cc:1089] InUse at 7f3cde847000 of size 59805696 next 18446744073709551615\n",
      "2022-09-17 13:21:27.467791: I tensorflow/core/common_runtime/bfc_allocator.cc:1094]      Summary of in-use Chunks by size: \n",
      "2022-09-17 13:21:27.467817: I tensorflow/core/common_runtime/bfc_allocator.cc:1097] 39 Chunks of size 256 totalling 9.8KiB\n",
      "2022-09-17 13:21:27.467838: I tensorflow/core/common_runtime/bfc_allocator.cc:1097] 2 Chunks of size 512 totalling 1.0KiB\n",
      "2022-09-17 13:21:27.467859: I tensorflow/core/common_runtime/bfc_allocator.cc:1097] 3 Chunks of size 1024 totalling 3.0KiB\n",
      "2022-09-17 13:21:27.467879: I tensorflow/core/common_runtime/bfc_allocator.cc:1097] 1 Chunks of size 1280 totalling 1.2KiB\n",
      "2022-09-17 13:21:27.467899: I tensorflow/core/common_runtime/bfc_allocator.cc:1097] 3 Chunks of size 2048 totalling 6.0KiB\n",
      "2022-09-17 13:21:27.467920: I tensorflow/core/common_runtime/bfc_allocator.cc:1097] 1 Chunks of size 670208 totalling 654.5KiB\n",
      "2022-09-17 13:21:27.467943: I tensorflow/core/common_runtime/bfc_allocator.cc:1097] 1 Chunks of size 1340160 totalling 1.28MiB\n",
      "2022-09-17 13:21:27.467964: I tensorflow/core/common_runtime/bfc_allocator.cc:1097] 1 Chunks of size 40200192 totalling 38.34MiB\n",
      "2022-09-17 13:21:27.467985: I tensorflow/core/common_runtime/bfc_allocator.cc:1097] 1 Chunks of size 59805696 totalling 57.04MiB\n",
      "2022-09-17 13:21:27.468006: I tensorflow/core/common_runtime/bfc_allocator.cc:1101] Sum Total of in-use chunks: 97.31MiB\n",
      "2022-09-17 13:21:27.468026: I tensorflow/core/common_runtime/bfc_allocator.cc:1103] total_region_allocated_bytes_: 102039552 memory_limit_: 102039552 available bytes: 0 curr_region_allocation_bytes_: 204079104\n",
      "2022-09-17 13:21:27.468054: I tensorflow/core/common_runtime/bfc_allocator.cc:1109] Stats: \n",
      "Limit:                       102039552\n",
      "InUse:                       102037760\n",
      "MaxInUse:                    102037760\n",
      "NumAllocs:                      569778\n",
      "MaxAllocSize:                 59805696\n",
      "Reserved:                            0\n",
      "PeakReserved:                        0\n",
      "LargestFreeBlock:                    0\n",
      "\n",
      "2022-09-17 13:21:27.468093: W tensorflow/core/common_runtime/bfc_allocator.cc:491] *********************************************************************************xxxxxxxxxxxxxxxxxxx\n"
     ]
    },
    {
     "ename": "ResourceExhaustedError",
     "evalue": "Graph execution error:\n\nSameWorkerRecvDone unable to allocate output tensor. Key: /job:localhost/replica:0/task:0/device:CPU:0;bbcbbcbc25f95849;/job:localhost/replica:0/task:0/device:GPU:0;edge_9_IteratorGetNext;0:0\n\t [[{{node IteratorGetNext/_2}}]]\nHint: If you want to see a list of allocated tensors when OOM happens, add report_tensor_allocations_upon_oom to RunOptions for current allocation info. This isn't available when running in Eager mode.\n [Op:__inference_predict_function_710980]",
     "output_type": "error",
     "traceback": [
      "\u001b[0;31m---------------------------------------------------------------------------\u001b[0m",
      "\u001b[0;31mResourceExhaustedError\u001b[0m                    Traceback (most recent call last)",
      "\u001b[1;32m/home/mkidson/gitRepos/Uni-Code/Honours/DS/Top_Tagging/Training_a_Neural_Net.ipynb Cell 15\u001b[0m in \u001b[0;36m<cell line: 2>\u001b[0;34m()\u001b[0m\n\u001b[1;32m      <a href='vscode-notebook-cell:/home/mkidson/gitRepos/Uni-Code/Honours/DS/Top_Tagging/Training_a_Neural_Net.ipynb#X20sZmlsZQ%3D%3D?line=0'>1</a>\u001b[0m \u001b[39m# plot discriminator values for \"train\" set\u001b[39;00m\n\u001b[0;32m----> <a href='vscode-notebook-cell:/home/mkidson/gitRepos/Uni-Code/Honours/DS/Top_Tagging/Training_a_Neural_Net.ipynb#X20sZmlsZQ%3D%3D?line=1'>2</a>\u001b[0m pred_train \u001b[39m=\u001b[39m model\u001b[39m.\u001b[39;49mpredict(X_train)\n\u001b[1;32m      <a href='vscode-notebook-cell:/home/mkidson/gitRepos/Uni-Code/Honours/DS/Top_Tagging/Training_a_Neural_Net.ipynb#X20sZmlsZQ%3D%3D?line=3'>4</a>\u001b[0m dfNN \u001b[39m=\u001b[39m pd\u001b[39m.\u001b[39mDataFrame()\n\u001b[1;32m      <a href='vscode-notebook-cell:/home/mkidson/gitRepos/Uni-Code/Honours/DS/Top_Tagging/Training_a_Neural_Net.ipynb#X20sZmlsZQ%3D%3D?line=4'>5</a>\u001b[0m dfNN[\u001b[39m\"\u001b[39m\u001b[39mlabels\u001b[39m\u001b[39m\"\u001b[39m] \u001b[39m=\u001b[39m y_train\n",
      "File \u001b[0;32m~/.local/lib/python3.10/site-packages/keras/utils/traceback_utils.py:70\u001b[0m, in \u001b[0;36mfilter_traceback.<locals>.error_handler\u001b[0;34m(*args, **kwargs)\u001b[0m\n\u001b[1;32m     67\u001b[0m     filtered_tb \u001b[39m=\u001b[39m _process_traceback_frames(e\u001b[39m.\u001b[39m__traceback__)\n\u001b[1;32m     68\u001b[0m     \u001b[39m# To get the full stack trace, call:\u001b[39;00m\n\u001b[1;32m     69\u001b[0m     \u001b[39m# `tf.debugging.disable_traceback_filtering()`\u001b[39;00m\n\u001b[0;32m---> 70\u001b[0m     \u001b[39mraise\u001b[39;00m e\u001b[39m.\u001b[39mwith_traceback(filtered_tb) \u001b[39mfrom\u001b[39;00m \u001b[39mNone\u001b[39m\n\u001b[1;32m     71\u001b[0m \u001b[39mfinally\u001b[39;00m:\n\u001b[1;32m     72\u001b[0m     \u001b[39mdel\u001b[39;00m filtered_tb\n",
      "File \u001b[0;32m~/.local/lib/python3.10/site-packages/tensorflow/python/eager/execute.py:54\u001b[0m, in \u001b[0;36mquick_execute\u001b[0;34m(op_name, num_outputs, inputs, attrs, ctx, name)\u001b[0m\n\u001b[1;32m     52\u001b[0m \u001b[39mtry\u001b[39;00m:\n\u001b[1;32m     53\u001b[0m   ctx\u001b[39m.\u001b[39mensure_initialized()\n\u001b[0;32m---> 54\u001b[0m   tensors \u001b[39m=\u001b[39m pywrap_tfe\u001b[39m.\u001b[39mTFE_Py_Execute(ctx\u001b[39m.\u001b[39m_handle, device_name, op_name,\n\u001b[1;32m     55\u001b[0m                                       inputs, attrs, num_outputs)\n\u001b[1;32m     56\u001b[0m \u001b[39mexcept\u001b[39;00m core\u001b[39m.\u001b[39m_NotOkStatusException \u001b[39mas\u001b[39;00m e:\n\u001b[1;32m     57\u001b[0m   \u001b[39mif\u001b[39;00m name \u001b[39mis\u001b[39;00m \u001b[39mnot\u001b[39;00m \u001b[39mNone\u001b[39;00m:\n",
      "\u001b[0;31mResourceExhaustedError\u001b[0m: Graph execution error:\n\nSameWorkerRecvDone unable to allocate output tensor. Key: /job:localhost/replica:0/task:0/device:CPU:0;bbcbbcbc25f95849;/job:localhost/replica:0/task:0/device:GPU:0;edge_9_IteratorGetNext;0:0\n\t [[{{node IteratorGetNext/_2}}]]\nHint: If you want to see a list of allocated tensors when OOM happens, add report_tensor_allocations_upon_oom to RunOptions for current allocation info. This isn't available when running in Eager mode.\n [Op:__inference_predict_function_710980]"
     ]
    }
   ],
   "source": [
    "# plot discriminator values for \"train\" set\n",
    "pred_train = model.predict(X_train)\n",
    "\n",
    "dfNN = pd.DataFrame()\n",
    "dfNN[\"labels\"] = y_train\n",
    "dfNN[\"predictions\"] = pred_train\n",
    "dfNN[\"weights\"] = final_weights_train\n",
    "\n",
    "signalVals = dfNN[dfNN['labels']== 1] \n",
    "backgroundVals = dfNN[dfNN['labels']== 0] \n",
    "\n",
    "plt.figure()\n",
    "plt.xlabel(\"NN discriminant\")\n",
    "plt.ylabel(\"#exp. events\")\n",
    "\n",
    "bkgHistNN = plt.hist(backgroundVals[\"predictions\"], bins=5, weights=backgroundVals[\"weights\"],label=\"backgrounds\", range=[0,1], alpha=0.6)\n",
    "sigHistNN = plt.hist(signalVals[\"predictions\"], bins=5, weights=signalVals[\"weights\"],  label=r\"$H\\rightarrow \\tau\\tau$ signal\",range=[0,1], alpha=0.6)\n",
    "\n",
    "plt.legend()\n",
    "#plt.yscale('log')\n",
    "plt.show()"
   ]
  },
  {
   "cell_type": "code",
   "execution_count": 15,
   "metadata": {
    "slideshow": {
     "slide_type": "slide"
    }
   },
   "outputs": [
    {
     "data": {
      "image/png": "[encoded data removed]",
      "text/plain": [
       "<Figure size 432x288 with 1 Axes>"
      ]
     },
     "metadata": {
      "needs_background": "light"
     },
     "output_type": "display_data"
    }
   ],
   "source": [
    "# plot discriminator values for \"test\" set\n",
    "pred_test = model.predict(X_test)\n",
    "\n",
    "dfNN = pd.DataFrame()\n",
    "dfNN[\"labels\"] = y_test\n",
    "dfNN[\"predictions\"] = pred_test\n",
    "dfNN[\"weights\"] = weights_test\n",
    "\n",
    "signalVals = dfNN[dfNN['labels']== 1] \n",
    "backgroundVals = dfNN[dfNN['labels']== 0] \n",
    "\n",
    "plt.figure()\n",
    "plt.xlabel(\"NN discriminant\")\n",
    "plt.ylabel(\"#exp. events\")\n",
    "\n",
    "#bkgHistNN = plt.hist(backgroundVals[\"predictions\"], bins=5, weights=backgroundVals[\"weights\"],label=\"backgrounds\", range=[0,1], alpha=0.6)\n",
    "sigHistNN = plt.hist(signalVals[\"predictions\"], bins=5, weights=signalVals[\"weights\"],  label=r\"$H\\rightarrow \\tau\\tau$ signal\",range=[0,1], alpha=0.6)\n",
    "\n",
    "plt.legend()\n",
    "#plt.yscale('log')\n",
    "plt.show()"
   ]
  },
  {
   "cell_type": "code",
   "execution_count": 9,
   "metadata": {
    "slideshow": {
     "slide_type": "slide"
    }
   },
   "outputs": [],
   "source": [
    "def getSig(sigHist, bkgHist):\n",
    "\n",
    "    #extract signifcance vs. discriminant.\n",
    "    bins = sigHist[1]\n",
    "    nSig = sigHist[0]\n",
    "    nBkg = bkgHist[0]\n",
    "\n",
    "    binCentres = (bins[:-1] + bins[1:]) / 2\n",
    "    width = bins[1] - bins[0]\n",
    "    sigmasNN = np.array([])\n",
    "    sigmasVar = np.array([])\n",
    "\n",
    "    for x in range(0,len(binCentres)):\n",
    "        indices = [x, (len(binCentres)-1)] \n",
    "        if (nBkg[indices].sum() != 0):\n",
    "            sigma = (nSig[indices].sum()) / ( np.sqrt(nBkg[indices].sum() + nBkg[indices].sum() ))\n",
    "        else:\n",
    "            sigma = 0.001\n",
    "        sigmasNN = np.append(sigmasNN, sigma)\n",
    "        \n",
    "    return binCentres, sigmasNN"
   ]
  },
  {
   "cell_type": "code",
   "execution_count": 10,
   "metadata": {
    "slideshow": {
     "slide_type": "slide"
    }
   },
   "outputs": [
    {
     "name": "stderr",
     "output_type": "stream",
     "text": [
      "No handles with labels found to put in legend.\n"
     ]
    },
    {
     "data": {
      "image/png": "[encoded data removed]",
      "text/plain": [
       "<Figure size 432x288 with 1 Axes>"
      ]
     },
     "metadata": {
      "needs_background": "light"
     },
     "output_type": "display_data"
    },
    {
     "data": {
      "image/png": "[encoded data removed]",
      "text/plain": [
       "<Figure size 432x288 with 1 Axes>"
      ]
     },
     "metadata": {
      "needs_background": "light"
     },
     "output_type": "display_data"
    }
   ],
   "source": [
    "signalVals = df[df['Label']== \"s\"] \n",
    "backgroundVals = df[ df['Label']== \"b\"]\n",
    "\n",
    "for var in df.columns:\n",
    "    if( (var == \"DER_mass_MMC\") ):   \n",
    "        plt.yscale('log')\n",
    "        plt.xlabel(var)\n",
    "        plt.ylabel(\"N events\")\n",
    "        bkgHist = plt.hist(backgroundVals[var], bins=5, weights=backgroundVals[\"Weight\"], label=\"backgrounds\", alpha=0.6)\n",
    "        sigHist = plt.hist(signalVals[var], bins=5, weights=signalVals[\"Weight\"], label=r\"$H\\rightarrow \\tau\\tau$ signal\", alpha=0.6)\n",
    "        binCentres, sigmas = getSig(sigHist, bkgHist) \n",
    "        plt.legend() \n",
    "        #make comparison plot\n",
    "        fig, ax1 = plt.subplots()\n",
    "        plt.xlabel(var + \" cut value\")\n",
    "        plt.ylabel(\"significance\")\n",
    "        ax1.plot(binCentres, sigmas, lw=5, alpha=0.6)\n",
    "        plt.legend() \n",
    "        plt.yscale('log')\n",
    "        plt.show()"
   ]
  },
  {
   "cell_type": "code",
   "execution_count": 13,
   "metadata": {
    "slideshow": {
     "slide_type": "slide"
    }
   },
   "outputs": [
    {
     "data": {
      "image/png": "[encoded data removed]",
      "text/plain": [
       "<Figure size 432x288 with 1 Axes>"
      ]
     },
     "metadata": {
      "needs_background": "light"
     },
     "output_type": "display_data"
    }
   ],
   "source": [
    "#make comparison plot\n",
    "fig, ax1 = plt.subplots()\n",
    "plt.xlabel(\"NN discriminant cut value\")\n",
    "plt.ylabel(\"significance\")\n",
    "plt.yscale('log')\n",
    "binCentres, sigmasNN = getSig(sigHistNN, bkgHistNN)\n",
    "\n",
    "ax1.plot(binCentres, sigmasNN, label=\"NN\", lw=5, alpha=0.6)\n",
    "plt.legend()    \n",
    "plt.show()"
   ]
  },
  {
   "cell_type": "code",
   "execution_count": null,
   "metadata": {},
   "outputs": [],
   "source": [
    "newModel = keras.models.load_model('/home/mkidson/gitRepos/Uni-Code/Honours/DS/Top_Tagging/models/constit_preprocessed_no_weights_processing_1200000_jets_80_max_constits')"
   ]
  }
 ],
 "metadata": {
  "celltoolbar": "Slideshow",
  "kernelspec": {
   "display_name": "Python 3.10.4 64-bit",
   "language": "python",
   "name": "python3"
  },
  "language_info": {
   "codemirror_mode": {
    "name": "ipython",
    "version": 3
   },
   "file_extension": ".py",
   "mimetype": "text/x-python",
   "name": "python",
   "nbconvert_exporter": "python",
   "pygments_lexer": "ipython3",
   "version": "3.6.8"
  },
  "vscode": {
   "interpreter": {
    "hash": "916dbcbb3f70747c44a77c7bcd40155683ae19c65e1c03b4aa3499c5328201f1"
   }
  }
 },
 "nbformat": 4,
 "nbformat_minor": 2
}
