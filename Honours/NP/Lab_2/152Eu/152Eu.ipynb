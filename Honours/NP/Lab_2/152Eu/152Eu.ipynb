{
 "cells": [
  {
   "cell_type": "code",
   "execution_count": 1,
   "metadata": {},
   "outputs": [],
   "source": [
    "import numpy as np\n",
    "from scipy.optimize import curve_fit\n",
    "import scipy.signal\n",
    "import scipy.stats\n",
    "import matplotlib.pyplot as plt\n",
    "import mplhep\n",
    "import pandas as pd\n",
    "%matplotlib qt"
   ]
  },
  {
   "cell_type": "code",
   "execution_count": 2,
   "metadata": {},
   "outputs": [],
   "source": [
    "eu_df = pd.read_csv('152Eu.csv', skiprows=21)\n",
    "bkg_df = pd.read_csv('bkg.csv', skiprows=21)"
   ]
  },
  {
   "cell_type": "code",
   "execution_count": 3,
   "metadata": {},
   "outputs": [],
   "source": [
    "channels = eu_df['Channel'].to_numpy()\n",
    "eu_counts = eu_df['Counts'].to_numpy()\n",
    "bkg_counts = bkg_df['Counts'].to_numpy()\n",
    "\n",
    "eu_counts -= bkg_counts\n",
    "eu_counts_unnorm = eu_counts\n",
    "eu_counts = eu_counts / 1200"
   ]
  },
  {
   "cell_type": "code",
   "execution_count": 4,
   "metadata": {},
   "outputs": [],
   "source": [
    "calibrationVals = [2.27306926, 56.76252822]\n",
    "channels_calib = (channels - calibrationVals[1]) / calibrationVals[0]"
   ]
  },
  {
   "cell_type": "code",
   "execution_count": 5,
   "metadata": {},
   "outputs": [
    {
     "data": {
      "text/plain": [
       "<matplotlib.legend.Legend at 0x7fb45c559240>"
      ]
     },
     "execution_count": 5,
     "metadata": {},
     "output_type": "execute_result"
    }
   ],
   "source": [
    "plt.figure(figsize=(10,5))\n",
    "plt.xlabel('Energy (keV)')\n",
    "plt.ylabel('Counts')\n",
    "plt.grid(color='#CCCCCC', linestyle=':')\n",
    "\n",
    "plt.axvline(121.7817, color='C1', label='121.8 keV', lw=1.5)\n",
    "plt.axvline(244.6974, color='C2', label='244.7 keV', lw=1.5)\n",
    "plt.axvline(344.2785, color='C3', label='344.3 keV', lw=1.5)\n",
    "plt.axvline(778.9045, color='C4', label='778.9 keV', lw=1.5)\n",
    "plt.axvline(964.057, color='C5', label='964.1 keV', lw=1.5)\n",
    "plt.axvline(1085.837, color='C6', label='1085.8 keV', lw=1.5)\n",
    "plt.axvline(1112.076, color='C7', label='1112.1 keV', lw=1.5)\n",
    "plt.axvline(1408.013, color='C8', label='1408 keV', lw=1.5)\n",
    "\n",
    "plt.hist(channels_calib, bins=channels_calib, weights=eu_counts, histtype='step', label='Gamma Spectrum')\n",
    "\n",
    "plt.legend(loc='upper right')"
   ]
  },
  {
   "cell_type": "code",
   "execution_count": 6,
   "metadata": {},
   "outputs": [
    {
     "name": "stdout",
     "output_type": "stream",
     "text": [
      "0.21006944444444445\n",
      "Incident Activity: 7016.319444444444\n"
     ]
    }
   ],
   "source": [
    "current_activity = 3.34e4\n",
    "detector_radius = 5.5 / 2\n",
    "detector_distance = 3\n",
    "\n",
    "# solid_angle = ( np.pi * detector_radius**2 ) / ( detector_distance**2 )\n",
    "fraction_incident = ( np.pi * detector_radius**2 ) / ( 4 * np.pi * detector_distance**2 )\n",
    "print(fraction_incident)\n",
    "\n",
    "\n",
    "incident_activity = current_activity * fraction_incident\n",
    "\n",
    "print(f'Incident Activity: {incident_activity}')"
   ]
  },
  {
   "cell_type": "code",
   "execution_count": 14,
   "metadata": {},
   "outputs": [
    {
     "name": "stdout",
     "output_type": "stream",
     "text": [
      "[ 3.77049871  8.15798812 11.85993232 27.52464061 34.00304294 49.46208767]\n",
      "[58198, 107695, 243542, 90044, 69360, 50833]\n",
      "[1731438.8157      458197.09283333  625063.80456667  303951.6733\n",
      "  880588.05523333 1266566.00363333]\n",
      "[0.03361251 0.23504078 0.38962742 0.29624446 0.07876555 0.04013451]\n"
     ]
    },
    {
     "data": {
      "text/plain": [
       "[<matplotlib.lines.Line2D at 0x7fb45078a980>]"
      ]
     },
     "execution_count": 14,
     "metadata": {},
     "output_type": "execute_result"
    }
   ],
   "source": [
    "peaks = np.array([110, 238, 346, 803, 992, 1443])\n",
    "peakResHalf = (peaks * 0.06855452205872739) / 2\n",
    "\n",
    "print(peakResHalf)\n",
    "\n",
    "N_Meas = []\n",
    "\n",
    "for counter, peak in enumerate(peaks):\n",
    "    left = np.where(channels_calib >= peak - peakResHalf[counter])[0][0]\n",
    "    right = np.where(channels_calib >= peak + peakResHalf[counter])[0][0]\n",
    "\n",
    "    N_Meas.append(np.sum(eu_counts_unnorm[left:right]))\n",
    "\n",
    "print(N_Meas)\n",
    "\n",
    "yields = np.array([0.2853 * 0.7208, 0.0755 * 0.7208, 0.2659 * 0.2792, 0.1293 * 0.2792, 0.1451 * 0.7208, 0.2087 * 0.7208])\n",
    "\n",
    "N_Emit = yields * incident_activity * 1200\n",
    "print(N_Emit)\n",
    "\n",
    "print(N_Meas / N_Emit)\n",
    "plt.figure()\n",
    "plt.plot(N_Meas / N_Emit)"
   ]
  }
 ],
 "metadata": {
  "kernelspec": {
   "display_name": "Python 3.10.6 ('jupyter-pyroot')",
   "language": "python",
   "name": "python3"
  },
  "language_info": {
   "codemirror_mode": {
    "name": "ipython",
    "version": 3
   },
   "file_extension": ".py",
   "mimetype": "text/x-python",
   "name": "python",
   "nbconvert_exporter": "python",
   "pygments_lexer": "ipython3",
   "version": "3.10.6"
  },
  "orig_nbformat": 4,
  "vscode": {
   "interpreter": {
    "hash": "14854149bb0762231755f978a9b8a5714ba0c7efcabafb7a2eafaa23ad2b59b0"
   }
  }
 },
 "nbformat": 4,
 "nbformat_minor": 2
}
