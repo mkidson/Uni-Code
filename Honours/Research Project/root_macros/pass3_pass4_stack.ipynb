{
 "cells": [
  {
   "cell_type": "code",
   "execution_count": 1,
   "metadata": {},
   "outputs": [
    {
     "name": "stdout",
     "output_type": "stream",
     "text": [
      "Welcome to JupyROOT 6.26/06\n"
     ]
    }
   ],
   "source": [
    "import ROOT as r\n",
    "pass3 = 'AnalysisResults_fullMerge.root'\n",
    "pass4 = 'AnalysisResults_pass4_full_weird.root'"
   ]
  },
  {
   "cell_type": "code",
   "execution_count": 2,
   "metadata": {},
   "outputs": [],
   "source": [
    "f3 = r.TFile(pass3)\n",
    "f4 = r.TFile(pass4)\n",
    "\n",
    "# f.GetListOfKeys().Print()"
   ]
  },
  {
   "cell_type": "code",
   "execution_count": 3,
   "metadata": {},
   "outputs": [],
   "source": [
    "histRegistryName = 'fwd-registry'\n",
    "histName = 'MFTeta'\n",
    "\n",
    "f3.cd(histRegistryName)\n",
    "pass3Eta = r.gDirectory.Get(histName)\n",
    "\n",
    "\n",
    "f4.cd(histRegistryName)\n",
    "pass4Eta = r.gDirectory.Get(histName)\n",
    "\n",
    "# r.gDirectory.GetListOfKeys().Print()"
   ]
  },
  {
   "cell_type": "code",
   "execution_count": 12,
   "metadata": {},
   "outputs": [],
   "source": [
    "title = '#eta from MFT'\n",
    "x_axis_label = '#eta'\n",
    "x_axis_center = False\n",
    "y_axis_label = 'Counts'\n",
    "y_axis_center = False\n",
    "log_x = False\n",
    "log_y = False\n",
    "grid_x = False\n",
    "grid_y = False\n",
    "aspectRatio = 1.7\n",
    "line_colour = '#0000FF'\n",
    "line_colour2 = '#FF0000'\n",
    "fill_colour = '#c6d5eb'\n",
    "fill_colour2 = '#FFC7C9'\n",
    "\n"
   ]
  },
  {
   "cell_type": "code",
   "execution_count": 43,
   "metadata": {},
   "outputs": [
    {
     "data": {
      "image/png": "[encoded data removed]",
      "text/plain": [
       "<IPython.core.display.Image object>"
      ]
     },
     "metadata": {},
     "output_type": "display_data"
    }
   ],
   "source": [
    "c = r.TCanvas()\n",
    "c.SetGridx(grid_x)\n",
    "c.SetGridy(grid_y)\n",
    "c.SetLogx(log_x)\n",
    "c.SetLogy(log_y)\n",
    "\n",
    "pass3Eta.SetStats(0)\n",
    "pass4Eta.SetStats(0)\n",
    "pass3Eta.SetLineWidth(2)\n",
    "pass4Eta.SetLineWidth(2)\n",
    "pass3Eta.SetLineColor(r.TColor.GetColor(line_colour))\n",
    "pass4Eta.SetLineColor(r.TColor.GetColor(line_colour2))\n",
    "pass3Eta.SetFillColor(r.TColor.GetColor(fill_colour))\n",
    "pass4Eta.SetFillColor(r.TColor.GetColor(fill_colour2))\n",
    "# pass3Eta.SetFillColorAlpha(r.TColor.GetColor(fill_colour),0.5)\n",
    "\n",
    "pass3Eta.SetFillStyle(3006)\n",
    "pass4Eta.SetFillStyle(3007)\n",
    "\n",
    "leg = r.TLegend(0.1245111,0.626322,0.4243807,0.8354877)\n",
    "leg.AddEntry(pass3Eta, 'pass3')\n",
    "leg.AddEntry(pass4Eta, 'pass4')\n",
    "\n",
    "\n",
    "# plotHist.SetTitle(title)\n",
    "\n",
    "# plotHist.GetXaxis().SetTitle(x_axis_label)\n",
    "# plotHist.GetXaxis().CenterTitle(x_axis_center)\n",
    "# plotHist.GetXaxis().SetTitleSize(0.05)\n",
    "# plotHist.GetXaxis().SetTitleOffset(0.7)\n",
    "\n",
    "\n",
    "# plotHist.GetYaxis().SetTitle(y_axis_label)\n",
    "# plotHist.GetYaxis().CenterTitle(y_axis_center)\n",
    "# plotHist.GetYaxis().SetTitleSize(0.05)\n",
    "# plotHist.GetYaxis().SetTitleOffset(0.75)\n",
    "\n",
    "\n",
    "pass4Eta.Draw('same')\n",
    "pass3Eta.Draw('same')\n",
    "leg.Draw('same')\n",
    "c.Draw()\n",
    "\n",
    "# c.SaveAs('./testagain.cpp')"
   ]
  }
 ],
 "metadata": {
  "kernelspec": {
   "display_name": "Python 3.10.6 ('jupyter-pyroot')",
   "language": "python",
   "name": "python3"
  },
  "language_info": {
   "codemirror_mode": {
    "name": "ipython",
    "version": 3
   },
   "file_extension": ".py",
   "mimetype": "text/x-python",
   "name": "python",
   "nbconvert_exporter": "python",
   "pygments_lexer": "ipython3",
   "version": "3.10.6"
  },
  "orig_nbformat": 4,
  "vscode": {
   "interpreter": {
    "hash": "14854149bb0762231755f978a9b8a5714ba0c7efcabafb7a2eafaa23ad2b59b0"
   }
  }
 },
 "nbformat": 4,
 "nbformat_minor": 2
}
